{
 "cells": [
  {
   "cell_type": "markdown",
   "metadata": {},
   "source": [
    "# US Walkability\n"
   ]
  },
  {
   "cell_type": "markdown",
   "metadata": {},
   "source": [
    "\n",
    "This project is to show walkability of the walk score data sample provided by walkscore.com of Washington D.C. "
   ]
  },
  {
   "cell_type": "markdown",
   "metadata": {},
   "source": [
    "![](score.PNG)"
   ]
  },
  {
   "cell_type": "markdown",
   "metadata": {},
   "source": [
    "More information can be found at https://www.walkscore.com/how-it-works/"
   ]
  },
  {
   "cell_type": "markdown",
   "metadata": {},
   "source": [
    "# Data collection\n",
    "Future project will be using apis to gather locations, geocoding the position (probably google places) then using api to get walk score. Then will be put into a db in the cloud.\n",
    "\n",
    "Due to time, will us walkscore data provided by a sample of data for Washington DC at https://www.walkscore.com/professional/research.php"
   ]
  },
  {
   "cell_type": "code",
   "execution_count": 12,
   "metadata": {},
   "outputs": [],
   "source": [
    "import pandas as pd\n",
    "import plotly.express as px\n",
    "import matplotlib.pyplot as plt\n",
    "import seaborn as sns\n",
    "import numpy as np"
   ]
  },
  {
   "cell_type": "code",
   "execution_count": 2,
   "metadata": {},
   "outputs": [
    {
     "name": "stdout",
     "output_type": "stream",
     "text": [
      "shape: (65, 23)\n"
     ]
    },
    {
     "data": {
      "text/html": [
       "<div>\n",
       "<style scoped>\n",
       "    .dataframe tbody tr th:only-of-type {\n",
       "        vertical-align: middle;\n",
       "    }\n",
       "\n",
       "    .dataframe tbody tr th {\n",
       "        vertical-align: top;\n",
       "    }\n",
       "\n",
       "    .dataframe thead th {\n",
       "        text-align: right;\n",
       "    }\n",
       "</style>\n",
       "<table border=\"1\" class=\"dataframe\">\n",
       "  <thead>\n",
       "    <tr style=\"text-align: right;\">\n",
       "      <th></th>\n",
       "      <th>1</th>\n",
       "      <th>Snapped lat</th>\n",
       "      <th>Snapped lon</th>\n",
       "      <th>Walk Score</th>\n",
       "      <th>Walk Score Label</th>\n",
       "      <th>Average Block Length (meters)</th>\n",
       "      <th>Average Block Length Score</th>\n",
       "      <th>Intersection Density (inscts/mi^2)</th>\n",
       "      <th>Intersection Density Score</th>\n",
       "      <th>Transit Score</th>\n",
       "      <th>...</th>\n",
       "      <th>City Name</th>\n",
       "      <th>City Walk Score</th>\n",
       "      <th>Rail Stops in 0.5mi</th>\n",
       "      <th>Errands Score</th>\n",
       "      <th>Culture Score</th>\n",
       "      <th>Grocery Score</th>\n",
       "      <th>Park Score</th>\n",
       "      <th>Dining and Drinking Score</th>\n",
       "      <th>School Score</th>\n",
       "      <th>Shopping Score</th>\n",
       "    </tr>\n",
       "  </thead>\n",
       "  <tbody>\n",
       "    <tr>\n",
       "      <th>0</th>\n",
       "      <td>2</td>\n",
       "      <td>38.9010</td>\n",
       "      <td>-77.0460</td>\n",
       "      <td>99</td>\n",
       "      <td>Walker's Paradise</td>\n",
       "      <td>104.18</td>\n",
       "      <td>95.82</td>\n",
       "      <td>250.83</td>\n",
       "      <td>83.61</td>\n",
       "      <td>95</td>\n",
       "      <td>...</td>\n",
       "      <td>Washington D.C.</td>\n",
       "      <td>73.2</td>\n",
       "      <td>3</td>\n",
       "      <td>100.00</td>\n",
       "      <td>93.45</td>\n",
       "      <td>97.89</td>\n",
       "      <td>100.0</td>\n",
       "      <td>100.00</td>\n",
       "      <td>99.67</td>\n",
       "      <td>99.63</td>\n",
       "    </tr>\n",
       "    <tr>\n",
       "      <th>1</th>\n",
       "      <td>3</td>\n",
       "      <td>38.9115</td>\n",
       "      <td>-77.0355</td>\n",
       "      <td>97</td>\n",
       "      <td>Walker's Paradise</td>\n",
       "      <td>97.10</td>\n",
       "      <td>100.00</td>\n",
       "      <td>287.75</td>\n",
       "      <td>95.92</td>\n",
       "      <td>92</td>\n",
       "      <td>...</td>\n",
       "      <td>Washington D.C.</td>\n",
       "      <td>73.2</td>\n",
       "      <td>1</td>\n",
       "      <td>97.70</td>\n",
       "      <td>78.34</td>\n",
       "      <td>100.00</td>\n",
       "      <td>100.0</td>\n",
       "      <td>99.50</td>\n",
       "      <td>94.49</td>\n",
       "      <td>98.15</td>\n",
       "    </tr>\n",
       "    <tr>\n",
       "      <th>2</th>\n",
       "      <td>4</td>\n",
       "      <td>38.9040</td>\n",
       "      <td>-77.0250</td>\n",
       "      <td>98</td>\n",
       "      <td>Walker's Paradise</td>\n",
       "      <td>100.95</td>\n",
       "      <td>99.05</td>\n",
       "      <td>247.01</td>\n",
       "      <td>82.34</td>\n",
       "      <td>100</td>\n",
       "      <td>...</td>\n",
       "      <td>Washington D.C.</td>\n",
       "      <td>73.2</td>\n",
       "      <td>5</td>\n",
       "      <td>99.98</td>\n",
       "      <td>97.27</td>\n",
       "      <td>95.08</td>\n",
       "      <td>100.0</td>\n",
       "      <td>99.77</td>\n",
       "      <td>97.74</td>\n",
       "      <td>95.49</td>\n",
       "    </tr>\n",
       "    <tr>\n",
       "      <th>3</th>\n",
       "      <td>5</td>\n",
       "      <td>38.8995</td>\n",
       "      <td>-77.0385</td>\n",
       "      <td>99</td>\n",
       "      <td>Walker's Paradise</td>\n",
       "      <td>120.64</td>\n",
       "      <td>79.36</td>\n",
       "      <td>184.62</td>\n",
       "      <td>61.54</td>\n",
       "      <td>98</td>\n",
       "      <td>...</td>\n",
       "      <td>Washington D.C.</td>\n",
       "      <td>73.2</td>\n",
       "      <td>3</td>\n",
       "      <td>100.00</td>\n",
       "      <td>94.35</td>\n",
       "      <td>98.72</td>\n",
       "      <td>100.0</td>\n",
       "      <td>99.98</td>\n",
       "      <td>100.00</td>\n",
       "      <td>96.78</td>\n",
       "    </tr>\n",
       "    <tr>\n",
       "      <th>4</th>\n",
       "      <td>6</td>\n",
       "      <td>38.9100</td>\n",
       "      <td>-77.0475</td>\n",
       "      <td>100</td>\n",
       "      <td>Walker's Paradise</td>\n",
       "      <td>98.83</td>\n",
       "      <td>100.00</td>\n",
       "      <td>255.92</td>\n",
       "      <td>85.31</td>\n",
       "      <td>85</td>\n",
       "      <td>...</td>\n",
       "      <td>Washington D.C.</td>\n",
       "      <td>73.2</td>\n",
       "      <td>1</td>\n",
       "      <td>98.91</td>\n",
       "      <td>94.89</td>\n",
       "      <td>100.00</td>\n",
       "      <td>100.0</td>\n",
       "      <td>100.00</td>\n",
       "      <td>100.00</td>\n",
       "      <td>99.20</td>\n",
       "    </tr>\n",
       "  </tbody>\n",
       "</table>\n",
       "<p>5 rows × 23 columns</p>\n",
       "</div>"
      ],
      "text/plain": [
       "   1  Snapped lat  Snapped lon  Walk Score   Walk Score Label  \\\n",
       "0  2      38.9010     -77.0460          99  Walker's Paradise   \n",
       "1  3      38.9115     -77.0355          97  Walker's Paradise   \n",
       "2  4      38.9040     -77.0250          98  Walker's Paradise   \n",
       "3  5      38.8995     -77.0385          99  Walker's Paradise   \n",
       "4  6      38.9100     -77.0475         100  Walker's Paradise   \n",
       "\n",
       "   Average Block Length (meters)  Average Block Length Score  \\\n",
       "0                         104.18                       95.82   \n",
       "1                          97.10                      100.00   \n",
       "2                         100.95                       99.05   \n",
       "3                         120.64                       79.36   \n",
       "4                          98.83                      100.00   \n",
       "\n",
       "   Intersection Density (inscts/mi^2)  Intersection Density Score  \\\n",
       "0                              250.83                       83.61   \n",
       "1                              287.75                       95.92   \n",
       "2                              247.01                       82.34   \n",
       "3                              184.62                       61.54   \n",
       "4                              255.92                       85.31   \n",
       "\n",
       "   Transit Score  ...        City Name  City Walk Score Rail Stops in 0.5mi  \\\n",
       "0             95  ...  Washington D.C.             73.2                   3   \n",
       "1             92  ...  Washington D.C.             73.2                   1   \n",
       "2            100  ...  Washington D.C.             73.2                   5   \n",
       "3             98  ...  Washington D.C.             73.2                   3   \n",
       "4             85  ...  Washington D.C.             73.2                   1   \n",
       "\n",
       "  Errands Score  Culture Score  Grocery Score  Park Score  \\\n",
       "0        100.00          93.45          97.89       100.0   \n",
       "1         97.70          78.34         100.00       100.0   \n",
       "2         99.98          97.27          95.08       100.0   \n",
       "3        100.00          94.35          98.72       100.0   \n",
       "4         98.91          94.89         100.00       100.0   \n",
       "\n",
       "   Dining and Drinking Score  School Score  Shopping Score  \n",
       "0                     100.00         99.67           99.63  \n",
       "1                      99.50         94.49           98.15  \n",
       "2                      99.77         97.74           95.49  \n",
       "3                      99.98        100.00           96.78  \n",
       "4                     100.00        100.00           99.20  \n",
       "\n",
       "[5 rows x 23 columns]"
      ]
     },
     "execution_count": 2,
     "metadata": {},
     "output_type": "execute_result"
    }
   ],
   "source": [
    "url = \"https://docs.google.com/spreadsheets/u/0/d/1hQHrdwGrYmWjuRuCxQ-hmCr51jgZlJ7YLG5y1F1VExg/pub?output=html\"\n",
    "\n",
    "data = pd.read_html(url, header=1)\n",
    "data = data[0]\n",
    "print(\"shape:\",data.shape)\n",
    "data.head()\n"
   ]
  },
  {
   "cell_type": "code",
   "execution_count": 3,
   "metadata": {},
   "outputs": [
    {
     "data": {
      "text/plain": [
       "1                                       int64\n",
       "Snapped lat                           float64\n",
       "Snapped lon                           float64\n",
       "Walk Score                              int64\n",
       "Walk Score Label                       object\n",
       "Average Block Length (meters)         float64\n",
       "Average Block Length Score            float64\n",
       "Intersection Density (inscts/mi^2)    float64\n",
       "Intersection Density Score            float64\n",
       "Transit Score                           int64\n",
       "Transit Score Label                    object\n",
       "Bike Score                              int64\n",
       "Bike Score Label                       object\n",
       "City Name                              object\n",
       "City Walk Score                       float64\n",
       "Rail Stops in 0.5mi                     int64\n",
       "Errands Score                         float64\n",
       "Culture Score                         float64\n",
       "Grocery Score                         float64\n",
       "Park Score                            float64\n",
       "Dining and Drinking Score             float64\n",
       "School Score                          float64\n",
       "Shopping Score                        float64\n",
       "dtype: object"
      ]
     },
     "execution_count": 3,
     "metadata": {},
     "output_type": "execute_result"
    }
   ],
   "source": [
    "data.dtypes"
   ]
  },
  {
   "cell_type": "markdown",
   "metadata": {},
   "source": [
    "# Business understanding\n",
    "- Finding where walking and public transit infrastructure is lacking to target in public projects\n",
    "- Buying real estate in well connected and walkable places\n",
    "- Comparing between states and cities \n",
    "- Other data that is included that give which to focus on\n",
    "- Data is there, better to display"
   ]
  },
  {
   "cell_type": "code",
   "execution_count": 4,
   "metadata": {},
   "outputs": [
    {
     "data": {
      "text/html": [
       "<div>\n",
       "<style scoped>\n",
       "    .dataframe tbody tr th:only-of-type {\n",
       "        vertical-align: middle;\n",
       "    }\n",
       "\n",
       "    .dataframe tbody tr th {\n",
       "        vertical-align: top;\n",
       "    }\n",
       "\n",
       "    .dataframe thead th {\n",
       "        text-align: right;\n",
       "    }\n",
       "</style>\n",
       "<table border=\"1\" class=\"dataframe\">\n",
       "  <thead>\n",
       "    <tr style=\"text-align: right;\">\n",
       "      <th></th>\n",
       "      <th>Walk Score</th>\n",
       "      <th>Transit Score</th>\n",
       "      <th>Bike Score</th>\n",
       "      <th>Intersection Density Score</th>\n",
       "      <th>Errands Score</th>\n",
       "      <th>Culture Score</th>\n",
       "      <th>Grocery Score</th>\n",
       "      <th>Park Score</th>\n",
       "      <th>Dining and Drinking Score</th>\n",
       "      <th>School Score</th>\n",
       "      <th>Rail Stops in 0.5mi</th>\n",
       "    </tr>\n",
       "  </thead>\n",
       "  <tbody>\n",
       "    <tr>\n",
       "      <th>count</th>\n",
       "      <td>65.000000</td>\n",
       "      <td>65.000000</td>\n",
       "      <td>65.000000</td>\n",
       "      <td>65.000000</td>\n",
       "      <td>65.000000</td>\n",
       "      <td>65.000000</td>\n",
       "      <td>65.000000</td>\n",
       "      <td>65.000000</td>\n",
       "      <td>65.000000</td>\n",
       "      <td>65.000000</td>\n",
       "      <td>65.000000</td>\n",
       "    </tr>\n",
       "    <tr>\n",
       "      <th>mean</th>\n",
       "      <td>91.569231</td>\n",
       "      <td>87.538462</td>\n",
       "      <td>81.800000</td>\n",
       "      <td>66.571231</td>\n",
       "      <td>92.184154</td>\n",
       "      <td>82.716769</td>\n",
       "      <td>92.972615</td>\n",
       "      <td>99.304923</td>\n",
       "      <td>94.439385</td>\n",
       "      <td>95.236308</td>\n",
       "      <td>2.000000</td>\n",
       "    </tr>\n",
       "    <tr>\n",
       "      <th>std</th>\n",
       "      <td>14.177413</td>\n",
       "      <td>11.878390</td>\n",
       "      <td>11.770195</td>\n",
       "      <td>18.507362</td>\n",
       "      <td>16.659978</td>\n",
       "      <td>27.336466</td>\n",
       "      <td>13.169928</td>\n",
       "      <td>4.956029</td>\n",
       "      <td>13.203746</td>\n",
       "      <td>9.540464</td>\n",
       "      <td>1.862458</td>\n",
       "    </tr>\n",
       "    <tr>\n",
       "      <th>min</th>\n",
       "      <td>15.000000</td>\n",
       "      <td>60.000000</td>\n",
       "      <td>31.000000</td>\n",
       "      <td>30.560000</td>\n",
       "      <td>6.590000</td>\n",
       "      <td>0.000000</td>\n",
       "      <td>15.760000</td>\n",
       "      <td>60.340000</td>\n",
       "      <td>17.060000</td>\n",
       "      <td>57.170000</td>\n",
       "      <td>0.000000</td>\n",
       "    </tr>\n",
       "    <tr>\n",
       "      <th>25%</th>\n",
       "      <td>89.000000</td>\n",
       "      <td>77.000000</td>\n",
       "      <td>78.000000</td>\n",
       "      <td>53.050000</td>\n",
       "      <td>94.210000</td>\n",
       "      <td>80.630000</td>\n",
       "      <td>93.610000</td>\n",
       "      <td>100.000000</td>\n",
       "      <td>94.350000</td>\n",
       "      <td>97.010000</td>\n",
       "      <td>1.000000</td>\n",
       "    </tr>\n",
       "    <tr>\n",
       "      <th>50%</th>\n",
       "      <td>97.000000</td>\n",
       "      <td>90.000000</td>\n",
       "      <td>84.000000</td>\n",
       "      <td>64.090000</td>\n",
       "      <td>99.570000</td>\n",
       "      <td>94.350000</td>\n",
       "      <td>97.400000</td>\n",
       "      <td>100.000000</td>\n",
       "      <td>99.390000</td>\n",
       "      <td>99.390000</td>\n",
       "      <td>1.000000</td>\n",
       "    </tr>\n",
       "    <tr>\n",
       "      <th>75%</th>\n",
       "      <td>99.000000</td>\n",
       "      <td>98.000000</td>\n",
       "      <td>89.000000</td>\n",
       "      <td>83.180000</td>\n",
       "      <td>100.000000</td>\n",
       "      <td>99.710000</td>\n",
       "      <td>99.760000</td>\n",
       "      <td>100.000000</td>\n",
       "      <td>100.000000</td>\n",
       "      <td>100.000000</td>\n",
       "      <td>3.000000</td>\n",
       "    </tr>\n",
       "    <tr>\n",
       "      <th>max</th>\n",
       "      <td>100.000000</td>\n",
       "      <td>100.000000</td>\n",
       "      <td>95.000000</td>\n",
       "      <td>100.000000</td>\n",
       "      <td>100.000000</td>\n",
       "      <td>100.000000</td>\n",
       "      <td>100.000000</td>\n",
       "      <td>100.000000</td>\n",
       "      <td>100.000000</td>\n",
       "      <td>100.000000</td>\n",
       "      <td>7.000000</td>\n",
       "    </tr>\n",
       "  </tbody>\n",
       "</table>\n",
       "</div>"
      ],
      "text/plain": [
       "       Walk Score  Transit Score  Bike Score  Intersection Density Score  \\\n",
       "count   65.000000      65.000000   65.000000                   65.000000   \n",
       "mean    91.569231      87.538462   81.800000                   66.571231   \n",
       "std     14.177413      11.878390   11.770195                   18.507362   \n",
       "min     15.000000      60.000000   31.000000                   30.560000   \n",
       "25%     89.000000      77.000000   78.000000                   53.050000   \n",
       "50%     97.000000      90.000000   84.000000                   64.090000   \n",
       "75%     99.000000      98.000000   89.000000                   83.180000   \n",
       "max    100.000000     100.000000   95.000000                  100.000000   \n",
       "\n",
       "       Errands Score  Culture Score  Grocery Score  Park Score  \\\n",
       "count      65.000000      65.000000      65.000000   65.000000   \n",
       "mean       92.184154      82.716769      92.972615   99.304923   \n",
       "std        16.659978      27.336466      13.169928    4.956029   \n",
       "min         6.590000       0.000000      15.760000   60.340000   \n",
       "25%        94.210000      80.630000      93.610000  100.000000   \n",
       "50%        99.570000      94.350000      97.400000  100.000000   \n",
       "75%       100.000000      99.710000      99.760000  100.000000   \n",
       "max       100.000000     100.000000     100.000000  100.000000   \n",
       "\n",
       "       Dining and Drinking Score  School Score  Rail Stops in 0.5mi  \n",
       "count                  65.000000     65.000000            65.000000  \n",
       "mean                   94.439385     95.236308             2.000000  \n",
       "std                    13.203746      9.540464             1.862458  \n",
       "min                    17.060000     57.170000             0.000000  \n",
       "25%                    94.350000     97.010000             1.000000  \n",
       "50%                    99.390000     99.390000             1.000000  \n",
       "75%                   100.000000    100.000000             3.000000  \n",
       "max                   100.000000    100.000000             7.000000  "
      ]
     },
     "execution_count": 4,
     "metadata": {},
     "output_type": "execute_result"
    }
   ],
   "source": [
    "scores = data[[\"Walk Score\",\"Transit Score\",\"Bike Score\",\"Intersection Density Score\",\"Errands Score\",\"Culture Score\", \"Grocery Score\",\"Park Score\", \"Dining and Drinking Score\", \"School Score\", \"Rail Stops in 0.5mi\"]]\n",
    "# general stats of the scores\n",
    "scores.describe()\n"
   ]
  },
  {
   "cell_type": "code",
   "execution_count": 5,
   "metadata": {},
   "outputs": [
    {
     "data": {
      "image/png": "[encoded data removed]",
      "text/plain": [
       "<Figure size 640x480 with 1 Axes>"
      ]
     },
     "metadata": {},
     "output_type": "display_data"
    }
   ],
   "source": [
    "scores.plot.box()\n",
    "plt.xticks(rotation=90)\n",
    "plt.show()"
   ]
  },
  {
   "cell_type": "code",
   "execution_count": 6,
   "metadata": {},
   "outputs": [
    {
     "name": "stdout",
     "output_type": "stream",
     "text": [
      "                  Culture Score Walk Score\n",
      "                         median     median\n",
      "Walk Score Label                          \n",
      "Car-Dependent             0.000       30.5\n",
      "Somewhat Walkable         4.475       59.5\n",
      "Very Walkable            87.340       86.0\n",
      "Walker's Paradise        95.095       98.0\n"
     ]
    },
    {
     "data": {
      "image/png": "[encoded data removed]",
      "text/plain": [
       "<Figure size 640x480 with 1 Axes>"
      ]
     },
     "metadata": {},
     "output_type": "display_data"
    }
   ],
   "source": [
    "print(data.groupby(\"Walk Score Label\")[[\"Culture Score\",\"Walk Score\"]].agg({'median'}))\n",
    "\n",
    "data.groupby(\"Walk Score Label\")[[\"Culture Score\",\"Walk Score\"]].agg({'median'}).plot.bar()\n",
    "plt.show()\n"
   ]
  },
  {
   "cell_type": "code",
   "execution_count": 18,
   "metadata": {},
   "outputs": [
    {
     "data": {
      "image/png": "[encoded data removed]",
      "text/plain": [
       "<Figure size 1200x800 with 2 Axes>"
      ]
     },
     "metadata": {},
     "output_type": "display_data"
    }
   ],
   "source": [
    "sns.set(rc={'figure.dpi':200, 'figure.figsize':(6,4)})\n",
    "sns.set(style=\"darkgrid\", palette=\"Accent\")\n",
    "sns.heatmap(np.round(scores.corr(),2), annot=True, cmap=\"RdBu_r\",vmin=-1, vmax=1);"
   ]
  },
  {
   "cell_type": "code",
   "execution_count": 7,
   "metadata": {},
   "outputs": [],
   "source": [
    "\n",
    "color_scale = [(0, \"red\"), (1, \"green\")]\n",
    "\n",
    "walk_fig = px.scatter_mapbox(\n",
    "    data,\n",
    "    lat=\"Snapped lat\",\n",
    "    lon=\"Snapped lon\",\n",
    "    color=\"Walk Score\",\n",
    "    color_continuous_scale=color_scale,\n",
    "    size=\"Walk Score\",\n",
    "    zoom=10,\n",
    "    height=800,\n",
    "    width=800,\n",
    "\n",
    ")\n"
   ]
  },
  {
   "cell_type": "code",
   "execution_count": 8,
   "metadata": {},
   "outputs": [
    {
     "data": {
      "application/vnd.plotly.v1+json": {
       "config": {
        "plotlyServerURL": "https://plot.ly"
       },
       "data": [
        {
         "hovertemplate": "Walk Score=%{marker.color}<br>Snapped lat=%{lat}<br>Snapped lon=%{lon}<extra></extra>",
         "lat": [
          38.901,
          38.9115,
          38.904,
          38.8995,
          38.91,
          38.9235,
          38.9775,
          38.8875,
          38.901,
          38.907,
          38.8995,
          38.9175,
          38.9055,
          38.8995,
          38.919,
          38.8935,
          38.8965,
          38.907,
          38.8995,
          38.895,
          38.9025,
          38.907,
          38.8965,
          38.91,
          38.9175,
          38.913,
          38.907,
          38.9235,
          38.913,
          38.892,
          38.9025,
          38.889,
          38.9085,
          38.8935,
          38.9205,
          38.8965,
          38.8965,
          38.895,
          38.898,
          38.898,
          38.916,
          38.895,
          38.8995,
          38.9115,
          38.8485,
          38.901,
          38.91,
          38.892,
          38.889,
          38.898,
          38.8905,
          38.916,
          38.9115,
          38.9145,
          38.898,
          38.9025,
          38.889,
          38.9415,
          38.91,
          38.874,
          38.898,
          38.925,
          38.9145,
          38.91,
          38.9085
         ],
         "legendgroup": "",
         "lon": [
          -77.046,
          -77.0355,
          -77.025,
          -77.0385,
          -77.0475,
          -77.0205,
          -77.0325,
          -77.025,
          -77.0355,
          -77.061,
          -77.0385,
          -77.049,
          -77.025,
          -77.0385,
          -77.0355,
          -77.04,
          -77.04,
          -77.04,
          -77.0385,
          -77.0175,
          -77.0295,
          -77.04,
          -77.0235,
          -77.0655,
          -77.013,
          -77.037,
          -77.073,
          -77.022,
          -77.049,
          -77.0055,
          -77.034,
          -77.004,
          -77.0415,
          -77.04,
          -77.0355,
          -76.9305,
          -77.0415,
          -77.052,
          -77.0235,
          -77.0175,
          -77.052,
          -77.04,
          -77.04,
          -77.031,
          -76.989,
          -77.0355,
          -77.034,
          -77.004,
          -77.0265,
          -77.0385,
          -77.004,
          -77.016,
          -77.064,
          -77.04,
          -77.046,
          -77.037,
          -77.0085,
          -77.0115,
          -77.0685,
          -76.9965,
          -77.037,
          -77.034,
          -77.052,
          -77.0235,
          -77.037
         ],
         "marker": {
          "color": [
           99,
           97,
           98,
           99,
           100,
           87,
           60,
           79,
           99,
           99,
           99,
           89,
           98,
           99,
           97,
           86,
           99,
           98,
           99,
           98,
           99,
           98,
           100,
           97,
           84,
           98,
           79,
           91,
           98,
           93,
           100,
           98,
           99,
           86,
           92,
           46,
           100,
           87,
           99,
           96,
           80,
           94,
           100,
           97,
           15,
           99,
           99,
           97,
           81,
           98,
           97,
           97,
           98,
           97,
           98,
           99,
           86,
           59,
           95,
           80,
           97,
           91,
           86,
           95,
           98
          ],
          "coloraxis": "coloraxis",
          "size": [
           99,
           97,
           98,
           99,
           100,
           87,
           60,
           79,
           99,
           99,
           99,
           89,
           98,
           99,
           97,
           86,
           99,
           98,
           99,
           98,
           99,
           98,
           100,
           97,
           84,
           98,
           79,
           91,
           98,
           93,
           100,
           98,
           99,
           86,
           92,
           46,
           100,
           87,
           99,
           96,
           80,
           94,
           100,
           97,
           15,
           99,
           99,
           97,
           81,
           98,
           97,
           97,
           98,
           97,
           98,
           99,
           86,
           59,
           95,
           80,
           97,
           91,
           86,
           95,
           98
          ],
          "sizemode": "area",
          "sizeref": 0.25
         },
         "mode": "markers",
         "name": "",
         "showlegend": false,
         "subplot": "mapbox",
         "type": "scattermapbox"
        }
       ],
       "layout": {
        "coloraxis": {
         "colorbar": {
          "title": {
           "text": "Walk Score"
          }
         },
         "colorscale": [
          [
           0,
           "red"
          ],
          [
           1,
           "green"
          ]
         ]
        },
        "height": 800,
        "legend": {
         "itemsizing": "constant",
         "tracegroupgap": 0
        },
        "mapbox": {
         "center": {
          "lat": 38.9046,
          "lon": -77.03190000000001
         },
         "domain": {
          "x": [
           0,
           1
          ],
          "y": [
           0,
           1
          ]
         },
         "style": "carto-positron",
         "zoom": 10
        },
        "margin": {
         "b": 0,
         "l": 0,
         "r": 0,
         "t": 0
        },
        "template": {
         "data": {
          "bar": [
           {
            "error_x": {
             "color": "#2a3f5f"
            },
            "error_y": {
             "color": "#2a3f5f"
            },
            "marker": {
             "line": {
              "color": "#E5ECF6",
              "width": 0.5
             },
             "pattern": {
              "fillmode": "overlay",
              "size": 10,
              "solidity": 0.2
             }
            },
            "type": "bar"
           }
          ],
          "barpolar": [
           {
            "marker": {
             "line": {
              "color": "#E5ECF6",
              "width": 0.5
             },
             "pattern": {
              "fillmode": "overlay",
              "size": 10,
              "solidity": 0.2
             }
            },
            "type": "barpolar"
           }
          ],
          "carpet": [
           {
            "aaxis": {
             "endlinecolor": "#2a3f5f",
             "gridcolor": "white",
             "linecolor": "white",
             "minorgridcolor": "white",
             "startlinecolor": "#2a3f5f"
            },
            "baxis": {
             "endlinecolor": "#2a3f5f",
             "gridcolor": "white",
             "linecolor": "white",
             "minorgridcolor": "white",
             "startlinecolor": "#2a3f5f"
            },
            "type": "carpet"
           }
          ],
          "choropleth": [
           {
            "colorbar": {
             "outlinewidth": 0,
             "ticks": ""
            },
            "type": "choropleth"
           }
          ],
          "contour": [
           {
            "colorbar": {
             "outlinewidth": 0,
             "ticks": ""
            },
            "colorscale": [
             [
              0,
              "#0d0887"
             ],
             [
              0.1111111111111111,
              "#46039f"
             ],
             [
              0.2222222222222222,
              "#7201a8"
             ],
             [
              0.3333333333333333,
              "#9c179e"
             ],
             [
              0.4444444444444444,
              "#bd3786"
             ],
             [
              0.5555555555555556,
              "#d8576b"
             ],
             [
              0.6666666666666666,
              "#ed7953"
             ],
             [
              0.7777777777777778,
              "#fb9f3a"
             ],
             [
              0.8888888888888888,
              "#fdca26"
             ],
             [
              1,
              "#f0f921"
             ]
            ],
            "type": "contour"
           }
          ],
          "contourcarpet": [
           {
            "colorbar": {
             "outlinewidth": 0,
             "ticks": ""
            },
            "type": "contourcarpet"
           }
          ],
          "heatmap": [
           {
            "colorbar": {
             "outlinewidth": 0,
             "ticks": ""
            },
            "colorscale": [
             [
              0,
              "#0d0887"
             ],
             [
              0.1111111111111111,
              "#46039f"
             ],
             [
              0.2222222222222222,
              "#7201a8"
             ],
             [
              0.3333333333333333,
              "#9c179e"
             ],
             [
              0.4444444444444444,
              "#bd3786"
             ],
             [
              0.5555555555555556,
              "#d8576b"
             ],
             [
              0.6666666666666666,
              "#ed7953"
             ],
             [
              0.7777777777777778,
              "#fb9f3a"
             ],
             [
              0.8888888888888888,
              "#fdca26"
             ],
             [
              1,
              "#f0f921"
             ]
            ],
            "type": "heatmap"
           }
          ],
          "heatmapgl": [
           {
            "colorbar": {
             "outlinewidth": 0,
             "ticks": ""
            },
            "colorscale": [
             [
              0,
              "#0d0887"
             ],
             [
              0.1111111111111111,
              "#46039f"
             ],
             [
              0.2222222222222222,
              "#7201a8"
             ],
             [
              0.3333333333333333,
              "#9c179e"
             ],
             [
              0.4444444444444444,
              "#bd3786"
             ],
             [
              0.5555555555555556,
              "#d8576b"
             ],
             [
              0.6666666666666666,
              "#ed7953"
             ],
             [
              0.7777777777777778,
              "#fb9f3a"
             ],
             [
              0.8888888888888888,
              "#fdca26"
             ],
             [
              1,
              "#f0f921"
             ]
            ],
            "type": "heatmapgl"
           }
          ],
          "histogram": [
           {
            "marker": {
             "pattern": {
              "fillmode": "overlay",
              "size": 10,
              "solidity": 0.2
             }
            },
            "type": "histogram"
           }
          ],
          "histogram2d": [
           {
            "colorbar": {
             "outlinewidth": 0,
             "ticks": ""
            },
            "colorscale": [
             [
              0,
              "#0d0887"
             ],
             [
              0.1111111111111111,
              "#46039f"
             ],
             [
              0.2222222222222222,
              "#7201a8"
             ],
             [
              0.3333333333333333,
              "#9c179e"
             ],
             [
              0.4444444444444444,
              "#bd3786"
             ],
             [
              0.5555555555555556,
              "#d8576b"
             ],
             [
              0.6666666666666666,
              "#ed7953"
             ],
             [
              0.7777777777777778,
              "#fb9f3a"
             ],
             [
              0.8888888888888888,
              "#fdca26"
             ],
             [
              1,
              "#f0f921"
             ]
            ],
            "type": "histogram2d"
           }
          ],
          "histogram2dcontour": [
           {
            "colorbar": {
             "outlinewidth": 0,
             "ticks": ""
            },
            "colorscale": [
             [
              0,
              "#0d0887"
             ],
             [
              0.1111111111111111,
              "#46039f"
             ],
             [
              0.2222222222222222,
              "#7201a8"
             ],
             [
              0.3333333333333333,
              "#9c179e"
             ],
             [
              0.4444444444444444,
              "#bd3786"
             ],
             [
              0.5555555555555556,
              "#d8576b"
             ],
             [
              0.6666666666666666,
              "#ed7953"
             ],
             [
              0.7777777777777778,
              "#fb9f3a"
             ],
             [
              0.8888888888888888,
              "#fdca26"
             ],
             [
              1,
              "#f0f921"
             ]
            ],
            "type": "histogram2dcontour"
           }
          ],
          "mesh3d": [
           {
            "colorbar": {
             "outlinewidth": 0,
             "ticks": ""
            },
            "type": "mesh3d"
           }
          ],
          "parcoords": [
           {
            "line": {
             "colorbar": {
              "outlinewidth": 0,
              "ticks": ""
             }
            },
            "type": "parcoords"
           }
          ],
          "pie": [
           {
            "automargin": true,
            "type": "pie"
           }
          ],
          "scatter": [
           {
            "fillpattern": {
             "fillmode": "overlay",
             "size": 10,
             "solidity": 0.2
            },
            "type": "scatter"
           }
          ],
          "scatter3d": [
           {
            "line": {
             "colorbar": {
              "outlinewidth": 0,
              "ticks": ""
             }
            },
            "marker": {
             "colorbar": {
              "outlinewidth": 0,
              "ticks": ""
             }
            },
            "type": "scatter3d"
           }
          ],
          "scattercarpet": [
           {
            "marker": {
             "colorbar": {
              "outlinewidth": 0,
              "ticks": ""
             }
            },
            "type": "scattercarpet"
           }
          ],
          "scattergeo": [
           {
            "marker": {
             "colorbar": {
              "outlinewidth": 0,
              "ticks": ""
             }
            },
            "type": "scattergeo"
           }
          ],
          "scattergl": [
           {
            "marker": {
             "colorbar": {
              "outlinewidth": 0,
              "ticks": ""
             }
            },
            "type": "scattergl"
           }
          ],
          "scattermapbox": [
           {
            "marker": {
             "colorbar": {
              "outlinewidth": 0,
              "ticks": ""
             }
            },
            "type": "scattermapbox"
           }
          ],
          "scatterpolar": [
           {
            "marker": {
             "colorbar": {
              "outlinewidth": 0,
              "ticks": ""
             }
            },
            "type": "scatterpolar"
           }
          ],
          "scatterpolargl": [
           {
            "marker": {
             "colorbar": {
              "outlinewidth": 0,
              "ticks": ""
             }
            },
            "type": "scatterpolargl"
           }
          ],
          "scatterternary": [
           {
            "marker": {
             "colorbar": {
              "outlinewidth": 0,
              "ticks": ""
             }
            },
            "type": "scatterternary"
           }
          ],
          "surface": [
           {
            "colorbar": {
             "outlinewidth": 0,
             "ticks": ""
            },
            "colorscale": [
             [
              0,
              "#0d0887"
             ],
             [
              0.1111111111111111,
              "#46039f"
             ],
             [
              0.2222222222222222,
              "#7201a8"
             ],
             [
              0.3333333333333333,
              "#9c179e"
             ],
             [
              0.4444444444444444,
              "#bd3786"
             ],
             [
              0.5555555555555556,
              "#d8576b"
             ],
             [
              0.6666666666666666,
              "#ed7953"
             ],
             [
              0.7777777777777778,
              "#fb9f3a"
             ],
             [
              0.8888888888888888,
              "#fdca26"
             ],
             [
              1,
              "#f0f921"
             ]
            ],
            "type": "surface"
           }
          ],
          "table": [
           {
            "cells": {
             "fill": {
              "color": "#EBF0F8"
             },
             "line": {
              "color": "white"
             }
            },
            "header": {
             "fill": {
              "color": "#C8D4E3"
             },
             "line": {
              "color": "white"
             }
            },
            "type": "table"
           }
          ]
         },
         "layout": {
          "annotationdefaults": {
           "arrowcolor": "#2a3f5f",
           "arrowhead": 0,
           "arrowwidth": 1
          },
          "autotypenumbers": "strict",
          "coloraxis": {
           "colorbar": {
            "outlinewidth": 0,
            "ticks": ""
           }
          },
          "colorscale": {
           "diverging": [
            [
             0,
             "#8e0152"
            ],
            [
             0.1,
             "#c51b7d"
            ],
            [
             0.2,
             "#de77ae"
            ],
            [
             0.3,
             "#f1b6da"
            ],
            [
             0.4,
             "#fde0ef"
            ],
            [
             0.5,
             "#f7f7f7"
            ],
            [
             0.6,
             "#e6f5d0"
            ],
            [
             0.7,
             "#b8e186"
            ],
            [
             0.8,
             "#7fbc41"
            ],
            [
             0.9,
             "#4d9221"
            ],
            [
             1,
             "#276419"
            ]
           ],
           "sequential": [
            [
             0,
             "#0d0887"
            ],
            [
             0.1111111111111111,
             "#46039f"
            ],
            [
             0.2222222222222222,
             "#7201a8"
            ],
            [
             0.3333333333333333,
             "#9c179e"
            ],
            [
             0.4444444444444444,
             "#bd3786"
            ],
            [
             0.5555555555555556,
             "#d8576b"
            ],
            [
             0.6666666666666666,
             "#ed7953"
            ],
            [
             0.7777777777777778,
             "#fb9f3a"
            ],
            [
             0.8888888888888888,
             "#fdca26"
            ],
            [
             1,
             "#f0f921"
            ]
           ],
           "sequentialminus": [
            [
             0,
             "#0d0887"
            ],
            [
             0.1111111111111111,
             "#46039f"
            ],
            [
             0.2222222222222222,
             "#7201a8"
            ],
            [
             0.3333333333333333,
             "#9c179e"
            ],
            [
             0.4444444444444444,
             "#bd3786"
            ],
            [
             0.5555555555555556,
             "#d8576b"
            ],
            [
             0.6666666666666666,
             "#ed7953"
            ],
            [
             0.7777777777777778,
             "#fb9f3a"
            ],
            [
             0.8888888888888888,
             "#fdca26"
            ],
            [
             1,
             "#f0f921"
            ]
           ]
          },
          "colorway": [
           "#636efa",
           "#EF553B",
           "#00cc96",
           "#ab63fa",
           "#FFA15A",
           "#19d3f3",
           "#FF6692",
           "#B6E880",
           "#FF97FF",
           "#FECB52"
          ],
          "font": {
           "color": "#2a3f5f"
          },
          "geo": {
           "bgcolor": "white",
           "lakecolor": "white",
           "landcolor": "#E5ECF6",
           "showlakes": true,
           "showland": true,
           "subunitcolor": "white"
          },
          "hoverlabel": {
           "align": "left"
          },
          "hovermode": "closest",
          "mapbox": {
           "style": "light"
          },
          "paper_bgcolor": "white",
          "plot_bgcolor": "#E5ECF6",
          "polar": {
           "angularaxis": {
            "gridcolor": "white",
            "linecolor": "white",
            "ticks": ""
           },
           "bgcolor": "#E5ECF6",
           "radialaxis": {
            "gridcolor": "white",
            "linecolor": "white",
            "ticks": ""
           }
          },
          "scene": {
           "xaxis": {
            "backgroundcolor": "#E5ECF6",
            "gridcolor": "white",
            "gridwidth": 2,
            "linecolor": "white",
            "showbackground": true,
            "ticks": "",
            "zerolinecolor": "white"
           },
           "yaxis": {
            "backgroundcolor": "#E5ECF6",
            "gridcolor": "white",
            "gridwidth": 2,
            "linecolor": "white",
            "showbackground": true,
            "ticks": "",
            "zerolinecolor": "white"
           },
           "zaxis": {
            "backgroundcolor": "#E5ECF6",
            "gridcolor": "white",
            "gridwidth": 2,
            "linecolor": "white",
            "showbackground": true,
            "ticks": "",
            "zerolinecolor": "white"
           }
          },
          "shapedefaults": {
           "line": {
            "color": "#2a3f5f"
           }
          },
          "ternary": {
           "aaxis": {
            "gridcolor": "white",
            "linecolor": "white",
            "ticks": ""
           },
           "baxis": {
            "gridcolor": "white",
            "linecolor": "white",
            "ticks": ""
           },
           "bgcolor": "#E5ECF6",
           "caxis": {
            "gridcolor": "white",
            "linecolor": "white",
            "ticks": ""
           }
          },
          "title": {
           "x": 0.05
          },
          "xaxis": {
           "automargin": true,
           "gridcolor": "white",
           "linecolor": "white",
           "ticks": "",
           "title": {
            "standoff": 15
           },
           "zerolinecolor": "white",
           "zerolinewidth": 2
          },
          "yaxis": {
           "automargin": true,
           "gridcolor": "white",
           "linecolor": "white",
           "ticks": "",
           "title": {
            "standoff": 15
           },
           "zerolinecolor": "white",
           "zerolinewidth": 2
          }
         }
        },
        "width": 800
       }
      }
     },
     "metadata": {},
     "output_type": "display_data"
    }
   ],
   "source": [
    "walk_fig.update_layout(mapbox_style=\"carto-positron\")\n",
    "walk_fig.update_layout(margin={\"r\": 0, \"t\": 0, \"l\": 0, \"b\": 0})\n",
    "walk_fig.show()"
   ]
  },
  {
   "cell_type": "code",
   "execution_count": 9,
   "metadata": {},
   "outputs": [],
   "source": [
    "import os\n",
    "mapbox_key = os.getenv(\"MAPBOX\")\n",
    "px.set_mapbox_access_token(mapbox_key)"
   ]
  },
  {
   "cell_type": "code",
   "execution_count": 10,
   "metadata": {},
   "outputs": [
    {
     "data": {
      "application/vnd.plotly.v1+json": {
       "config": {
        "plotlyServerURL": "https://plot.ly"
       },
       "data": [
        {
         "customdata": [
          [
           99,
           95,
           67,
           83.61,
           100,
           93.45,
           97.89,
           100,
           100,
           99.67,
           3
          ],
          [
           97,
           92,
           93,
           95.92,
           97.7,
           78.34,
           100,
           100,
           99.5,
           94.49,
           1
          ],
          [
           98,
           100,
           92,
           82.34,
           99.98,
           97.27,
           95.08,
           100,
           99.77,
           97.74,
           5
          ],
          [
           99,
           98,
           77,
           61.54,
           100,
           94.35,
           98.72,
           100,
           99.98,
           100,
           3
          ],
          [
           100,
           85,
           90,
           85.31,
           98.91,
           94.89,
           100,
           100,
           100,
           100,
           1
          ],
          [
           87,
           75,
           72,
           46.26,
           55.42,
           48.34,
           87.5,
           100,
           94.49,
           98.69,
           0
          ],
          [
           60,
           67,
           43,
           36.92,
           56.74,
           4.35,
           80.32,
           100,
           79.46,
           69.78,
           0
          ],
          [
           79,
           96,
           89,
           42.44,
           98.24,
           99.92,
           52.64,
           100,
           95.18,
           97.01,
           6
          ],
          [
           99,
           100,
           82,
           83.18,
           100,
           98.09,
           98.47,
           100,
           100,
           96.14,
           4
          ],
          [
           99,
           73,
           87,
           58.14,
           100,
           90.38,
           97.8,
           100,
           100,
           100,
           0
          ],
          [
           99,
           98,
           77,
           61.54,
           100,
           94.35,
           98.72,
           100,
           99.98,
           100,
           3
          ],
          [
           89,
           77,
           85,
           65.78,
           96.92,
           71.03,
           95.03,
           100,
           92.65,
           79.11,
           0
          ],
          [
           98,
           100,
           94,
           84.03,
           94.82,
           90.01,
           100,
           100,
           99.94,
           97.27,
           2
          ],
          [
           99,
           98,
           77,
           61.54,
           100,
           94.35,
           98.72,
           100,
           99.98,
           100,
           3
          ],
          [
           97,
           86,
           86,
           65.78,
           95.74,
           76.56,
           98.49,
           100,
           99.01,
           100,
           1
          ],
          [
           86,
           89,
           86,
           37.35,
           96.94,
           100,
           79.47,
           100,
           89.97,
           97.63,
           0
          ],
          [
           99,
           94,
           79,
           52.63,
           99.21,
           100,
           97.05,
           100,
           99.03,
           99.99,
           2
          ],
          [
           98,
           98,
           84,
           99.31,
           100,
           95.52,
           91.37,
           100,
           100,
           99.97,
           3
          ],
          [
           99,
           98,
           77,
           61.54,
           100,
           94.35,
           98.72,
           100,
           99.98,
           100,
           3
          ],
          [
           98,
           100,
           86,
           57.72,
           100,
           96.08,
           100,
           100,
           99.36,
           99.69,
           5
          ],
          [
           99,
           100,
           90,
           82.34,
           100,
           100,
           96.14,
           100,
           100,
           100,
           3
          ],
          [
           98,
           98,
           84,
           99.31,
           100,
           95.52,
           91.37,
           100,
           100,
           99.97,
           3
          ],
          [
           100,
           100,
           86,
           55.17,
           100,
           100,
           100,
           100,
           100,
           100,
           7
          ],
          [
           97,
           64,
           80,
           53.05,
           100,
           94.33,
           89.57,
           100,
           100,
           98.55,
           0
          ],
          [
           84,
           74,
           74,
           57.3,
           51.29,
           58.92,
           100,
           100,
           91.51,
           79.8,
           0
          ],
          [
           98,
           92,
           93,
           91.25,
           99.69,
           80.63,
           99.47,
           100,
           100,
           99.12,
           1
          ],
          [
           79,
           67,
           72,
           30.56,
           50.06,
           27.79,
           96.97,
           94.48,
           93.12,
           85.87,
           0
          ],
          [
           91,
           77,
           74,
           48.38,
           63.6,
           56.6,
           96.64,
           100,
           99.37,
           100,
           0
          ],
          [
           98,
           83,
           80,
           81.49,
           98.56,
           100,
           96.42,
           100,
           99.39,
           97.27,
           1
          ],
          [
           93,
           90,
           90,
           74.7,
           100,
           100,
           91.66,
           100,
           94.35,
           95.99,
           4
          ],
          [
           100,
           100,
           85,
           85.73,
           100,
           100,
           100,
           100,
           100,
           97.02,
           4
          ],
          [
           98,
           86,
           93,
           86.58,
           100,
           100,
           93.96,
           100,
           99.81,
           100,
           1
          ],
          [
           99,
           91,
           87,
           93.37,
           100,
           99.49,
           93.61,
           100,
           100,
           100,
           2
          ],
          [
           86,
           89,
           86,
           37.35,
           96.94,
           100,
           79.47,
           100,
           89.97,
           97.63,
           0
          ],
          [
           92,
           84,
           86,
           66.63,
           99.14,
           66.64,
           94,
           100,
           96.35,
           98.76,
           1
          ],
          [
           46,
           63,
           48,
           65.78,
           88,
           0,
           80.03,
           100,
           50.24,
           100,
           0
          ],
          [
           100,
           92,
           78,
           53.48,
           100,
           100,
           100,
           100,
           99.25,
           100,
           2
          ],
          [
           87,
           76,
           88,
           40.32,
           83.87,
           53.55,
           99.81,
           100,
           90.84,
           82.26,
           1
          ],
          [
           99,
           100,
           87,
           64.09,
           100,
           100,
           96.52,
           100,
           100,
           100,
           7
          ],
          [
           96,
           100,
           84,
           61.96,
           94.81,
           100,
           95.05,
           100,
           99.43,
           88.02,
           5
          ],
          [
           80,
           77,
           83,
           57.72,
           79.14,
           91.81,
           98.37,
           100,
           80.39,
           57.17,
           0
          ],
          [
           94,
           92,
           83,
           42.87,
           100,
           99.71,
           90.27,
           100,
           95.79,
           99.98,
           1
          ],
          [
           100,
           100,
           74,
           61.96,
           100,
           97.65,
           100,
           100,
           100,
           100,
           3
          ],
          [
           97,
           90,
           93,
           86.58,
           98.06,
           92.45,
           100,
           100,
           100,
           99.89,
           1
          ],
          [
           15,
           69,
           31,
           37.77,
           6.59,
           0,
           15.76,
           60.34,
           17.06,
           57.65,
           1
          ],
          [
           99,
           100,
           82,
           83.18,
           100,
           98.09,
           98.47,
           100,
           100,
           96.14,
           4
          ],
          [
           99,
           96,
           92,
           91.25,
           100,
           91.73,
           100,
           100,
           100,
           97.44,
           0
          ],
          [
           97,
           88,
           94,
           80.64,
           99.57,
           100,
           96.96,
           100,
           96.38,
           99.39,
           3
          ],
          [
           81,
           98,
           87,
           41.59,
           91.64,
           100,
           63.5,
           100,
           90.52,
           100,
           6
          ],
          [
           98,
           100,
           79,
           59.42,
           100,
           84.97,
           99.76,
           100,
           99.59,
           98.74,
           3
          ],
          [
           97,
           87,
           93,
           83.18,
           97.06,
           100,
           94.47,
           100,
           96.65,
           100,
           1
          ],
          [
           97,
           77,
           84,
           72.15,
           89.57,
           93.93,
           100,
           100,
           98.34,
           100,
           1
          ],
          [
           98,
           65,
           69,
           53.05,
           100,
           99.27,
           94.47,
           100,
           99.23,
           98.48,
           0
          ],
          [
           97,
           90,
           94,
           89.55,
           89.03,
           71.61,
           100,
           100,
           100,
           92.42,
           1
          ],
          [
           98,
           92,
           74,
           69.18,
           100,
           86.11,
           98.5,
           100,
           99.48,
           100,
           2
          ],
          [
           99,
           100,
           78,
           80.21,
           100,
           95.3,
           98.29,
           100,
           100,
           100,
           3
          ],
          [
           86,
           90,
           84,
           75.12,
           94.21,
           87.34,
           72.17,
           100,
           92.31,
           88.62,
           2
          ],
          [
           59,
           60,
           62,
           44.14,
           63.9,
           4.6,
           100,
           100,
           56.48,
           100,
           0
          ],
          [
           95,
           64,
           84,
           50.51,
           93.65,
           83.64,
           90.63,
           100,
           96.31,
           100,
           0
          ],
          [
           80,
           72,
           89,
           43.71,
           100,
           7.08,
           87.12,
           100,
           92.17,
           88.77,
           1
          ],
          [
           97,
           100,
           82,
           58.57,
           99.76,
           81.7,
           98.52,
           100,
           98.51,
           97.25,
           4
          ],
          [
           91,
           85,
           93,
           64.94,
           92.73,
           75.24,
           94.45,
           100,
           92.79,
           99.14,
           1
          ],
          [
           86,
           79,
           79,
           60.69,
           84.17,
           98.59,
           97.43,
           100,
           84.96,
           71.84,
           1
          ],
          [
           95,
           82,
           95,
           87.43,
           100,
           96.89,
           100,
           100,
           99.69,
           100,
           2
          ],
          [
           98,
           92,
           91,
           100,
           96.31,
           93.78,
           97.4,
           100,
           100,
           100,
           2
          ]
         ],
         "hovertemplate": "Snapped lat=%{lat}<br>Snapped lon=%{lon}<br>Walk Score=%{customdata[0]}<br>Transit Score=%{marker.color}<br>Bike Score=%{customdata[2]}<br>Intersection Density Score=%{customdata[3]}<br>Errands Score=%{customdata[4]}<br>Culture Score=%{customdata[5]}<br>Grocery Score=%{customdata[6]}<br>Park Score=%{customdata[7]}<br>Dining and Drinking Score=%{customdata[8]}<br>School Score=%{customdata[9]}<br>Rail Stops in 0.5mi=%{customdata[10]}<extra></extra>",
         "lat": [
          38.901,
          38.9115,
          38.904,
          38.8995,
          38.91,
          38.9235,
          38.9775,
          38.8875,
          38.901,
          38.907,
          38.8995,
          38.9175,
          38.9055,
          38.8995,
          38.919,
          38.8935,
          38.8965,
          38.907,
          38.8995,
          38.895,
          38.9025,
          38.907,
          38.8965,
          38.91,
          38.9175,
          38.913,
          38.907,
          38.9235,
          38.913,
          38.892,
          38.9025,
          38.889,
          38.9085,
          38.8935,
          38.9205,
          38.8965,
          38.8965,
          38.895,
          38.898,
          38.898,
          38.916,
          38.895,
          38.8995,
          38.9115,
          38.8485,
          38.901,
          38.91,
          38.892,
          38.889,
          38.898,
          38.8905,
          38.916,
          38.9115,
          38.9145,
          38.898,
          38.9025,
          38.889,
          38.9415,
          38.91,
          38.874,
          38.898,
          38.925,
          38.9145,
          38.91,
          38.9085
         ],
         "legendgroup": "",
         "lon": [
          -77.046,
          -77.0355,
          -77.025,
          -77.0385,
          -77.0475,
          -77.0205,
          -77.0325,
          -77.025,
          -77.0355,
          -77.061,
          -77.0385,
          -77.049,
          -77.025,
          -77.0385,
          -77.0355,
          -77.04,
          -77.04,
          -77.04,
          -77.0385,
          -77.0175,
          -77.0295,
          -77.04,
          -77.0235,
          -77.0655,
          -77.013,
          -77.037,
          -77.073,
          -77.022,
          -77.049,
          -77.0055,
          -77.034,
          -77.004,
          -77.0415,
          -77.04,
          -77.0355,
          -76.9305,
          -77.0415,
          -77.052,
          -77.0235,
          -77.0175,
          -77.052,
          -77.04,
          -77.04,
          -77.031,
          -76.989,
          -77.0355,
          -77.034,
          -77.004,
          -77.0265,
          -77.0385,
          -77.004,
          -77.016,
          -77.064,
          -77.04,
          -77.046,
          -77.037,
          -77.0085,
          -77.0115,
          -77.0685,
          -76.9965,
          -77.037,
          -77.034,
          -77.052,
          -77.0235,
          -77.037
         ],
         "marker": {
          "color": [
           95,
           92,
           100,
           98,
           85,
           75,
           67,
           96,
           100,
           73,
           98,
           77,
           100,
           98,
           86,
           89,
           94,
           98,
           98,
           100,
           100,
           98,
           100,
           64,
           74,
           92,
           67,
           77,
           83,
           90,
           100,
           86,
           91,
           89,
           84,
           63,
           92,
           76,
           100,
           100,
           77,
           92,
           100,
           90,
           69,
           100,
           96,
           88,
           98,
           100,
           87,
           77,
           65,
           90,
           92,
           100,
           90,
           60,
           64,
           72,
           100,
           85,
           79,
           82,
           92
          ],
          "coloraxis": "coloraxis"
         },
         "mode": "markers",
         "name": "",
         "showlegend": false,
         "subplot": "mapbox",
         "type": "scattermapbox"
        }
       ],
       "layout": {
        "coloraxis": {
         "colorbar": {
          "title": {
           "text": "Transit Score"
          }
         },
         "colorscale": [
          [
           0,
           "#0d0887"
          ],
          [
           0.1111111111111111,
           "#46039f"
          ],
          [
           0.2222222222222222,
           "#7201a8"
          ],
          [
           0.3333333333333333,
           "#9c179e"
          ],
          [
           0.4444444444444444,
           "#bd3786"
          ],
          [
           0.5555555555555556,
           "#d8576b"
          ],
          [
           0.6666666666666666,
           "#ed7953"
          ],
          [
           0.7777777777777778,
           "#fb9f3a"
          ],
          [
           0.8888888888888888,
           "#fdca26"
          ],
          [
           1,
           "#f0f921"
          ]
         ]
        },
        "legend": {
         "tracegroupgap": 0
        },
        "mapbox": {
         "accesstoken": "pk.eyJ1IjoidGFrb3NhZ2EiLCJhIjoiY2xxYmYzOWM4MWw2NzJsbnh1cXhxcm9xaiJ9.9-j08MJ8ZvIHw6fIRRpQIA",
         "center": {
          "lat": 38.9046,
          "lon": -77.03190000000001
         },
         "domain": {
          "x": [
           0,
           1
          ],
          "y": [
           0,
           1
          ]
         },
         "style": "dark",
         "zoom": 10
        },
        "margin": {
         "t": 60
        },
        "template": {
         "data": {
          "bar": [
           {
            "error_x": {
             "color": "#2a3f5f"
            },
            "error_y": {
             "color": "#2a3f5f"
            },
            "marker": {
             "line": {
              "color": "#E5ECF6",
              "width": 0.5
             },
             "pattern": {
              "fillmode": "overlay",
              "size": 10,
              "solidity": 0.2
             }
            },
            "type": "bar"
           }
          ],
          "barpolar": [
           {
            "marker": {
             "line": {
              "color": "#E5ECF6",
              "width": 0.5
             },
             "pattern": {
              "fillmode": "overlay",
              "size": 10,
              "solidity": 0.2
             }
            },
            "type": "barpolar"
           }
          ],
          "carpet": [
           {
            "aaxis": {
             "endlinecolor": "#2a3f5f",
             "gridcolor": "white",
             "linecolor": "white",
             "minorgridcolor": "white",
             "startlinecolor": "#2a3f5f"
            },
            "baxis": {
             "endlinecolor": "#2a3f5f",
             "gridcolor": "white",
             "linecolor": "white",
             "minorgridcolor": "white",
             "startlinecolor": "#2a3f5f"
            },
            "type": "carpet"
           }
          ],
          "choropleth": [
           {
            "colorbar": {
             "outlinewidth": 0,
             "ticks": ""
            },
            "type": "choropleth"
           }
          ],
          "contour": [
           {
            "colorbar": {
             "outlinewidth": 0,
             "ticks": ""
            },
            "colorscale": [
             [
              0,
              "#0d0887"
             ],
             [
              0.1111111111111111,
              "#46039f"
             ],
             [
              0.2222222222222222,
              "#7201a8"
             ],
             [
              0.3333333333333333,
              "#9c179e"
             ],
             [
              0.4444444444444444,
              "#bd3786"
             ],
             [
              0.5555555555555556,
              "#d8576b"
             ],
             [
              0.6666666666666666,
              "#ed7953"
             ],
             [
              0.7777777777777778,
              "#fb9f3a"
             ],
             [
              0.8888888888888888,
              "#fdca26"
             ],
             [
              1,
              "#f0f921"
             ]
            ],
            "type": "contour"
           }
          ],
          "contourcarpet": [
           {
            "colorbar": {
             "outlinewidth": 0,
             "ticks": ""
            },
            "type": "contourcarpet"
           }
          ],
          "heatmap": [
           {
            "colorbar": {
             "outlinewidth": 0,
             "ticks": ""
            },
            "colorscale": [
             [
              0,
              "#0d0887"
             ],
             [
              0.1111111111111111,
              "#46039f"
             ],
             [
              0.2222222222222222,
              "#7201a8"
             ],
             [
              0.3333333333333333,
              "#9c179e"
             ],
             [
              0.4444444444444444,
              "#bd3786"
             ],
             [
              0.5555555555555556,
              "#d8576b"
             ],
             [
              0.6666666666666666,
              "#ed7953"
             ],
             [
              0.7777777777777778,
              "#fb9f3a"
             ],
             [
              0.8888888888888888,
              "#fdca26"
             ],
             [
              1,
              "#f0f921"
             ]
            ],
            "type": "heatmap"
           }
          ],
          "heatmapgl": [
           {
            "colorbar": {
             "outlinewidth": 0,
             "ticks": ""
            },
            "colorscale": [
             [
              0,
              "#0d0887"
             ],
             [
              0.1111111111111111,
              "#46039f"
             ],
             [
              0.2222222222222222,
              "#7201a8"
             ],
             [
              0.3333333333333333,
              "#9c179e"
             ],
             [
              0.4444444444444444,
              "#bd3786"
             ],
             [
              0.5555555555555556,
              "#d8576b"
             ],
             [
              0.6666666666666666,
              "#ed7953"
             ],
             [
              0.7777777777777778,
              "#fb9f3a"
             ],
             [
              0.8888888888888888,
              "#fdca26"
             ],
             [
              1,
              "#f0f921"
             ]
            ],
            "type": "heatmapgl"
           }
          ],
          "histogram": [
           {
            "marker": {
             "pattern": {
              "fillmode": "overlay",
              "size": 10,
              "solidity": 0.2
             }
            },
            "type": "histogram"
           }
          ],
          "histogram2d": [
           {
            "colorbar": {
             "outlinewidth": 0,
             "ticks": ""
            },
            "colorscale": [
             [
              0,
              "#0d0887"
             ],
             [
              0.1111111111111111,
              "#46039f"
             ],
             [
              0.2222222222222222,
              "#7201a8"
             ],
             [
              0.3333333333333333,
              "#9c179e"
             ],
             [
              0.4444444444444444,
              "#bd3786"
             ],
             [
              0.5555555555555556,
              "#d8576b"
             ],
             [
              0.6666666666666666,
              "#ed7953"
             ],
             [
              0.7777777777777778,
              "#fb9f3a"
             ],
             [
              0.8888888888888888,
              "#fdca26"
             ],
             [
              1,
              "#f0f921"
             ]
            ],
            "type": "histogram2d"
           }
          ],
          "histogram2dcontour": [
           {
            "colorbar": {
             "outlinewidth": 0,
             "ticks": ""
            },
            "colorscale": [
             [
              0,
              "#0d0887"
             ],
             [
              0.1111111111111111,
              "#46039f"
             ],
             [
              0.2222222222222222,
              "#7201a8"
             ],
             [
              0.3333333333333333,
              "#9c179e"
             ],
             [
              0.4444444444444444,
              "#bd3786"
             ],
             [
              0.5555555555555556,
              "#d8576b"
             ],
             [
              0.6666666666666666,
              "#ed7953"
             ],
             [
              0.7777777777777778,
              "#fb9f3a"
             ],
             [
              0.8888888888888888,
              "#fdca26"
             ],
             [
              1,
              "#f0f921"
             ]
            ],
            "type": "histogram2dcontour"
           }
          ],
          "mesh3d": [
           {
            "colorbar": {
             "outlinewidth": 0,
             "ticks": ""
            },
            "type": "mesh3d"
           }
          ],
          "parcoords": [
           {
            "line": {
             "colorbar": {
              "outlinewidth": 0,
              "ticks": ""
             }
            },
            "type": "parcoords"
           }
          ],
          "pie": [
           {
            "automargin": true,
            "type": "pie"
           }
          ],
          "scatter": [
           {
            "fillpattern": {
             "fillmode": "overlay",
             "size": 10,
             "solidity": 0.2
            },
            "type": "scatter"
           }
          ],
          "scatter3d": [
           {
            "line": {
             "colorbar": {
              "outlinewidth": 0,
              "ticks": ""
             }
            },
            "marker": {
             "colorbar": {
              "outlinewidth": 0,
              "ticks": ""
             }
            },
            "type": "scatter3d"
           }
          ],
          "scattercarpet": [
           {
            "marker": {
             "colorbar": {
              "outlinewidth": 0,
              "ticks": ""
             }
            },
            "type": "scattercarpet"
           }
          ],
          "scattergeo": [
           {
            "marker": {
             "colorbar": {
              "outlinewidth": 0,
              "ticks": ""
             }
            },
            "type": "scattergeo"
           }
          ],
          "scattergl": [
           {
            "marker": {
             "colorbar": {
              "outlinewidth": 0,
              "ticks": ""
             }
            },
            "type": "scattergl"
           }
          ],
          "scattermapbox": [
           {
            "marker": {
             "colorbar": {
              "outlinewidth": 0,
              "ticks": ""
             }
            },
            "type": "scattermapbox"
           }
          ],
          "scatterpolar": [
           {
            "marker": {
             "colorbar": {
              "outlinewidth": 0,
              "ticks": ""
             }
            },
            "type": "scatterpolar"
           }
          ],
          "scatterpolargl": [
           {
            "marker": {
             "colorbar": {
              "outlinewidth": 0,
              "ticks": ""
             }
            },
            "type": "scatterpolargl"
           }
          ],
          "scatterternary": [
           {
            "marker": {
             "colorbar": {
              "outlinewidth": 0,
              "ticks": ""
             }
            },
            "type": "scatterternary"
           }
          ],
          "surface": [
           {
            "colorbar": {
             "outlinewidth": 0,
             "ticks": ""
            },
            "colorscale": [
             [
              0,
              "#0d0887"
             ],
             [
              0.1111111111111111,
              "#46039f"
             ],
             [
              0.2222222222222222,
              "#7201a8"
             ],
             [
              0.3333333333333333,
              "#9c179e"
             ],
             [
              0.4444444444444444,
              "#bd3786"
             ],
             [
              0.5555555555555556,
              "#d8576b"
             ],
             [
              0.6666666666666666,
              "#ed7953"
             ],
             [
              0.7777777777777778,
              "#fb9f3a"
             ],
             [
              0.8888888888888888,
              "#fdca26"
             ],
             [
              1,
              "#f0f921"
             ]
            ],
            "type": "surface"
           }
          ],
          "table": [
           {
            "cells": {
             "fill": {
              "color": "#EBF0F8"
             },
             "line": {
              "color": "white"
             }
            },
            "header": {
             "fill": {
              "color": "#C8D4E3"
             },
             "line": {
              "color": "white"
             }
            },
            "type": "table"
           }
          ]
         },
         "layout": {
          "annotationdefaults": {
           "arrowcolor": "#2a3f5f",
           "arrowhead": 0,
           "arrowwidth": 1
          },
          "autotypenumbers": "strict",
          "coloraxis": {
           "colorbar": {
            "outlinewidth": 0,
            "ticks": ""
           }
          },
          "colorscale": {
           "diverging": [
            [
             0,
             "#8e0152"
            ],
            [
             0.1,
             "#c51b7d"
            ],
            [
             0.2,
             "#de77ae"
            ],
            [
             0.3,
             "#f1b6da"
            ],
            [
             0.4,
             "#fde0ef"
            ],
            [
             0.5,
             "#f7f7f7"
            ],
            [
             0.6,
             "#e6f5d0"
            ],
            [
             0.7,
             "#b8e186"
            ],
            [
             0.8,
             "#7fbc41"
            ],
            [
             0.9,
             "#4d9221"
            ],
            [
             1,
             "#276419"
            ]
           ],
           "sequential": [
            [
             0,
             "#0d0887"
            ],
            [
             0.1111111111111111,
             "#46039f"
            ],
            [
             0.2222222222222222,
             "#7201a8"
            ],
            [
             0.3333333333333333,
             "#9c179e"
            ],
            [
             0.4444444444444444,
             "#bd3786"
            ],
            [
             0.5555555555555556,
             "#d8576b"
            ],
            [
             0.6666666666666666,
             "#ed7953"
            ],
            [
             0.7777777777777778,
             "#fb9f3a"
            ],
            [
             0.8888888888888888,
             "#fdca26"
            ],
            [
             1,
             "#f0f921"
            ]
           ],
           "sequentialminus": [
            [
             0,
             "#0d0887"
            ],
            [
             0.1111111111111111,
             "#46039f"
            ],
            [
             0.2222222222222222,
             "#7201a8"
            ],
            [
             0.3333333333333333,
             "#9c179e"
            ],
            [
             0.4444444444444444,
             "#bd3786"
            ],
            [
             0.5555555555555556,
             "#d8576b"
            ],
            [
             0.6666666666666666,
             "#ed7953"
            ],
            [
             0.7777777777777778,
             "#fb9f3a"
            ],
            [
             0.8888888888888888,
             "#fdca26"
            ],
            [
             1,
             "#f0f921"
            ]
           ]
          },
          "colorway": [
           "#636efa",
           "#EF553B",
           "#00cc96",
           "#ab63fa",
           "#FFA15A",
           "#19d3f3",
           "#FF6692",
           "#B6E880",
           "#FF97FF",
           "#FECB52"
          ],
          "font": {
           "color": "#2a3f5f"
          },
          "geo": {
           "bgcolor": "white",
           "lakecolor": "white",
           "landcolor": "#E5ECF6",
           "showlakes": true,
           "showland": true,
           "subunitcolor": "white"
          },
          "hoverlabel": {
           "align": "left"
          },
          "hovermode": "closest",
          "mapbox": {
           "style": "light"
          },
          "paper_bgcolor": "white",
          "plot_bgcolor": "#E5ECF6",
          "polar": {
           "angularaxis": {
            "gridcolor": "white",
            "linecolor": "white",
            "ticks": ""
           },
           "bgcolor": "#E5ECF6",
           "radialaxis": {
            "gridcolor": "white",
            "linecolor": "white",
            "ticks": ""
           }
          },
          "scene": {
           "xaxis": {
            "backgroundcolor": "#E5ECF6",
            "gridcolor": "white",
            "gridwidth": 2,
            "linecolor": "white",
            "showbackground": true,
            "ticks": "",
            "zerolinecolor": "white"
           },
           "yaxis": {
            "backgroundcolor": "#E5ECF6",
            "gridcolor": "white",
            "gridwidth": 2,
            "linecolor": "white",
            "showbackground": true,
            "ticks": "",
            "zerolinecolor": "white"
           },
           "zaxis": {
            "backgroundcolor": "#E5ECF6",
            "gridcolor": "white",
            "gridwidth": 2,
            "linecolor": "white",
            "showbackground": true,
            "ticks": "",
            "zerolinecolor": "white"
           }
          },
          "shapedefaults": {
           "line": {
            "color": "#2a3f5f"
           }
          },
          "ternary": {
           "aaxis": {
            "gridcolor": "white",
            "linecolor": "white",
            "ticks": ""
           },
           "baxis": {
            "gridcolor": "white",
            "linecolor": "white",
            "ticks": ""
           },
           "bgcolor": "#E5ECF6",
           "caxis": {
            "gridcolor": "white",
            "linecolor": "white",
            "ticks": ""
           }
          },
          "title": {
           "x": 0.05
          },
          "xaxis": {
           "automargin": true,
           "gridcolor": "white",
           "linecolor": "white",
           "ticks": "",
           "title": {
            "standoff": 15
           },
           "zerolinecolor": "white",
           "zerolinewidth": 2
          },
          "yaxis": {
           "automargin": true,
           "gridcolor": "white",
           "linecolor": "white",
           "ticks": "",
           "title": {
            "standoff": 15
           },
           "zerolinecolor": "white",
           "zerolinewidth": 2
          }
         }
        }
       }
      }
     },
     "metadata": {},
     "output_type": "display_data"
    }
   ],
   "source": [
    "\n",
    "fig = px.scatter_mapbox(data,\n",
    "    lat=\"Snapped lat\",\n",
    "    lon=\"Snapped lon\",\n",
    "    color=\"Transit Score\",\n",
    "    hover_data=scores,\n",
    "    zoom=10,\n",
    "    mapbox_style=\"dark\"\n",
    ")\n",
    "fig.show()"
   ]
  }
 ],
 "metadata": {
  "kernelspec": {
   "display_name": "base",
   "language": "python",
   "name": "python3"
  },
  "language_info": {
   "codemirror_mode": {
    "name": "ipython",
    "version": 3
   },
   "file_extension": ".py",
   "mimetype": "text/x-python",
   "name": "python",
   "nbconvert_exporter": "python",
   "pygments_lexer": "ipython3",
   "version": "3.10.4"
  }
 },
 "nbformat": 4,
 "nbformat_minor": 2
}
