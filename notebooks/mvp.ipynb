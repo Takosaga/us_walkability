{
 "cells": [
  {
   "cell_type": "markdown",
   "metadata": {},
   "source": [
    "# US Walkability"
   ]
  },
  {
   "cell_type": "markdown",
   "metadata": {},
   "source": [
    "\n",
    "This project is to show walkability of the walk score data sample provided by walkscore.com of Washington D.C. "
   ]
  },
  {
   "cell_type": "markdown",
   "metadata": {},
   "source": [
    "![](score.PNG)"
   ]
  },
  {
   "cell_type": "markdown",
   "metadata": {},
   "source": [
    "More information can be found at https://www.walkscore.com/how-it-works/"
   ]
  },
  {
   "cell_type": "code",
   "execution_count": 1,
   "metadata": {},
   "outputs": [],
   "source": [
    "import pandas as pd\n",
    "import plotly.express as px"
   ]
  },
  {
   "cell_type": "code",
   "execution_count": 4,
   "metadata": {},
   "outputs": [
    {
     "name": "stdout",
     "output_type": "stream",
     "text": [
      "(65, 23)\n"
     ]
    },
    {
     "data": {
      "text/html": [
       "<div>\n",
       "<style scoped>\n",
       "    .dataframe tbody tr th:only-of-type {\n",
       "        vertical-align: middle;\n",
       "    }\n",
       "\n",
       "    .dataframe tbody tr th {\n",
       "        vertical-align: top;\n",
       "    }\n",
       "\n",
       "    .dataframe thead th {\n",
       "        text-align: right;\n",
       "    }\n",
       "</style>\n",
       "<table border=\"1\" class=\"dataframe\">\n",
       "  <thead>\n",
       "    <tr style=\"text-align: right;\">\n",
       "      <th></th>\n",
       "      <th>1</th>\n",
       "      <th>Snapped lat</th>\n",
       "      <th>Snapped lon</th>\n",
       "      <th>Walk Score</th>\n",
       "      <th>Walk Score Label</th>\n",
       "      <th>Average Block Length (meters)</th>\n",
       "      <th>Average Block Length Score</th>\n",
       "      <th>Intersection Density (inscts/mi^2)</th>\n",
       "      <th>Intersection Density Score</th>\n",
       "      <th>Transit Score</th>\n",
       "      <th>...</th>\n",
       "      <th>City Name</th>\n",
       "      <th>City Walk Score</th>\n",
       "      <th>Rail Stops in 0.5mi</th>\n",
       "      <th>Errands Score</th>\n",
       "      <th>Culture Score</th>\n",
       "      <th>Grocery Score</th>\n",
       "      <th>Park Score</th>\n",
       "      <th>Dining and Drinking Score</th>\n",
       "      <th>School Score</th>\n",
       "      <th>Shopping Score</th>\n",
       "    </tr>\n",
       "  </thead>\n",
       "  <tbody>\n",
       "    <tr>\n",
       "      <th>0</th>\n",
       "      <td>2</td>\n",
       "      <td>38.9010</td>\n",
       "      <td>-77.0460</td>\n",
       "      <td>99</td>\n",
       "      <td>Walker's Paradise</td>\n",
       "      <td>104.18</td>\n",
       "      <td>95.82</td>\n",
       "      <td>250.83</td>\n",
       "      <td>83.61</td>\n",
       "      <td>95</td>\n",
       "      <td>...</td>\n",
       "      <td>Washington D.C.</td>\n",
       "      <td>73.2</td>\n",
       "      <td>3</td>\n",
       "      <td>100.00</td>\n",
       "      <td>93.45</td>\n",
       "      <td>97.89</td>\n",
       "      <td>100.0</td>\n",
       "      <td>100.00</td>\n",
       "      <td>99.67</td>\n",
       "      <td>99.63</td>\n",
       "    </tr>\n",
       "    <tr>\n",
       "      <th>1</th>\n",
       "      <td>3</td>\n",
       "      <td>38.9115</td>\n",
       "      <td>-77.0355</td>\n",
       "      <td>97</td>\n",
       "      <td>Walker's Paradise</td>\n",
       "      <td>97.10</td>\n",
       "      <td>100.00</td>\n",
       "      <td>287.75</td>\n",
       "      <td>95.92</td>\n",
       "      <td>92</td>\n",
       "      <td>...</td>\n",
       "      <td>Washington D.C.</td>\n",
       "      <td>73.2</td>\n",
       "      <td>1</td>\n",
       "      <td>97.70</td>\n",
       "      <td>78.34</td>\n",
       "      <td>100.00</td>\n",
       "      <td>100.0</td>\n",
       "      <td>99.50</td>\n",
       "      <td>94.49</td>\n",
       "      <td>98.15</td>\n",
       "    </tr>\n",
       "    <tr>\n",
       "      <th>2</th>\n",
       "      <td>4</td>\n",
       "      <td>38.9040</td>\n",
       "      <td>-77.0250</td>\n",
       "      <td>98</td>\n",
       "      <td>Walker's Paradise</td>\n",
       "      <td>100.95</td>\n",
       "      <td>99.05</td>\n",
       "      <td>247.01</td>\n",
       "      <td>82.34</td>\n",
       "      <td>100</td>\n",
       "      <td>...</td>\n",
       "      <td>Washington D.C.</td>\n",
       "      <td>73.2</td>\n",
       "      <td>5</td>\n",
       "      <td>99.98</td>\n",
       "      <td>97.27</td>\n",
       "      <td>95.08</td>\n",
       "      <td>100.0</td>\n",
       "      <td>99.77</td>\n",
       "      <td>97.74</td>\n",
       "      <td>95.49</td>\n",
       "    </tr>\n",
       "    <tr>\n",
       "      <th>3</th>\n",
       "      <td>5</td>\n",
       "      <td>38.8995</td>\n",
       "      <td>-77.0385</td>\n",
       "      <td>99</td>\n",
       "      <td>Walker's Paradise</td>\n",
       "      <td>120.64</td>\n",
       "      <td>79.36</td>\n",
       "      <td>184.62</td>\n",
       "      <td>61.54</td>\n",
       "      <td>98</td>\n",
       "      <td>...</td>\n",
       "      <td>Washington D.C.</td>\n",
       "      <td>73.2</td>\n",
       "      <td>3</td>\n",
       "      <td>100.00</td>\n",
       "      <td>94.35</td>\n",
       "      <td>98.72</td>\n",
       "      <td>100.0</td>\n",
       "      <td>99.98</td>\n",
       "      <td>100.00</td>\n",
       "      <td>96.78</td>\n",
       "    </tr>\n",
       "    <tr>\n",
       "      <th>4</th>\n",
       "      <td>6</td>\n",
       "      <td>38.9100</td>\n",
       "      <td>-77.0475</td>\n",
       "      <td>100</td>\n",
       "      <td>Walker's Paradise</td>\n",
       "      <td>98.83</td>\n",
       "      <td>100.00</td>\n",
       "      <td>255.92</td>\n",
       "      <td>85.31</td>\n",
       "      <td>85</td>\n",
       "      <td>...</td>\n",
       "      <td>Washington D.C.</td>\n",
       "      <td>73.2</td>\n",
       "      <td>1</td>\n",
       "      <td>98.91</td>\n",
       "      <td>94.89</td>\n",
       "      <td>100.00</td>\n",
       "      <td>100.0</td>\n",
       "      <td>100.00</td>\n",
       "      <td>100.00</td>\n",
       "      <td>99.20</td>\n",
       "    </tr>\n",
       "  </tbody>\n",
       "</table>\n",
       "<p>5 rows × 23 columns</p>\n",
       "</div>"
      ],
      "text/plain": [
       "   1  Snapped lat  Snapped lon  Walk Score   Walk Score Label  \\\n",
       "0  2      38.9010     -77.0460          99  Walker's Paradise   \n",
       "1  3      38.9115     -77.0355          97  Walker's Paradise   \n",
       "2  4      38.9040     -77.0250          98  Walker's Paradise   \n",
       "3  5      38.8995     -77.0385          99  Walker's Paradise   \n",
       "4  6      38.9100     -77.0475         100  Walker's Paradise   \n",
       "\n",
       "   Average Block Length (meters)  Average Block Length Score  \\\n",
       "0                         104.18                       95.82   \n",
       "1                          97.10                      100.00   \n",
       "2                         100.95                       99.05   \n",
       "3                         120.64                       79.36   \n",
       "4                          98.83                      100.00   \n",
       "\n",
       "   Intersection Density (inscts/mi^2)  Intersection Density Score  \\\n",
       "0                              250.83                       83.61   \n",
       "1                              287.75                       95.92   \n",
       "2                              247.01                       82.34   \n",
       "3                              184.62                       61.54   \n",
       "4                              255.92                       85.31   \n",
       "\n",
       "   Transit Score  ...        City Name  City Walk Score Rail Stops in 0.5mi  \\\n",
       "0             95  ...  Washington D.C.             73.2                   3   \n",
       "1             92  ...  Washington D.C.             73.2                   1   \n",
       "2            100  ...  Washington D.C.             73.2                   5   \n",
       "3             98  ...  Washington D.C.             73.2                   3   \n",
       "4             85  ...  Washington D.C.             73.2                   1   \n",
       "\n",
       "  Errands Score  Culture Score  Grocery Score  Park Score  \\\n",
       "0        100.00          93.45          97.89       100.0   \n",
       "1         97.70          78.34         100.00       100.0   \n",
       "2         99.98          97.27          95.08       100.0   \n",
       "3        100.00          94.35          98.72       100.0   \n",
       "4         98.91          94.89         100.00       100.0   \n",
       "\n",
       "   Dining and Drinking Score  School Score  Shopping Score  \n",
       "0                     100.00         99.67           99.63  \n",
       "1                      99.50         94.49           98.15  \n",
       "2                      99.77         97.74           95.49  \n",
       "3                      99.98        100.00           96.78  \n",
       "4                     100.00        100.00           99.20  \n",
       "\n",
       "[5 rows x 23 columns]"
      ]
     },
     "execution_count": 4,
     "metadata": {},
     "output_type": "execute_result"
    }
   ],
   "source": [
    "url = \"https://docs.google.com/spreadsheets/u/0/d/1hQHrdwGrYmWjuRuCxQ-hmCr51jgZlJ7YLG5y1F1VExg/pub?output=html\"\n",
    "\n",
    "data = pd.read_html(url, header=1)\n",
    "data = data[0]\n",
    "print(data.shape)\n",
    "data.head()\n"
   ]
  },
  {
   "cell_type": "code",
   "execution_count": 34,
   "metadata": {},
   "outputs": [],
   "source": [
    "\n",
    "color_scale = [(0, \"red\"), (1, \"green\")]\n",
    "\n",
    "walk_fig = px.scatter_mapbox(\n",
    "    data,\n",
    "    lat=\"Snapped lat\",\n",
    "    lon=\"Snapped lon\",\n",
    "    color=\"Walk Score\",\n",
    "    color_continuous_scale=color_scale,\n",
    "    size=\"Walk Score\",\n",
    "    zoom=8,\n",
    "    height=800,\n",
    "    width=800\n",
    "\n",
    ")\n"
   ]
  },
  {
   "cell_type": "code",
   "execution_count": 35,
   "metadata": {},
   "outputs": [
    {
     "data": {
      "application/vnd.plotly.v1+json": {
       "config": {
        "plotlyServerURL": "https://plot.ly"
       },
       "data": [
        {
         "hovertemplate": "Walk Score=%{marker.color}<br>Snapped lat=%{lat}<br>Snapped lon=%{lon}<extra></extra>",
         "lat": [
          38.901,
          38.9115,
          38.904,
          38.8995,
          38.91,
          38.9235,
          38.9775,
          38.8875,
          38.901,
          38.907,
          38.8995,
          38.9175,
          38.9055,
          38.8995,
          38.919,
          38.8935,
          38.8965,
          38.907,
          38.8995,
          38.895,
          38.9025,
          38.907,
          38.8965,
          38.91,
          38.9175,
          38.913,
          38.907,
          38.9235,
          38.913,
          38.892,
          38.9025,
          38.889,
          38.9085,
          38.8935,
          38.9205,
          38.8965,
          38.8965,
          38.895,
          38.898,
          38.898,
          38.916,
          38.895,
          38.8995,
          38.9115,
          38.8485,
          38.901,
          38.91,
          38.892,
          38.889,
          38.898,
          38.8905,
          38.916,
          38.9115,
          38.9145,
          38.898,
          38.9025,
          38.889,
          38.9415,
          38.91,
          38.874,
          38.898,
          38.925,
          38.9145,
          38.91,
          38.9085
         ],
         "legendgroup": "",
         "lon": [
          -77.046,
          -77.0355,
          -77.025,
          -77.0385,
          -77.0475,
          -77.0205,
          -77.0325,
          -77.025,
          -77.0355,
          -77.061,
          -77.0385,
          -77.049,
          -77.025,
          -77.0385,
          -77.0355,
          -77.04,
          -77.04,
          -77.04,
          -77.0385,
          -77.0175,
          -77.0295,
          -77.04,
          -77.0235,
          -77.0655,
          -77.013,
          -77.037,
          -77.073,
          -77.022,
          -77.049,
          -77.0055,
          -77.034,
          -77.004,
          -77.0415,
          -77.04,
          -77.0355,
          -76.9305,
          -77.0415,
          -77.052,
          -77.0235,
          -77.0175,
          -77.052,
          -77.04,
          -77.04,
          -77.031,
          -76.989,
          -77.0355,
          -77.034,
          -77.004,
          -77.0265,
          -77.0385,
          -77.004,
          -77.016,
          -77.064,
          -77.04,
          -77.046,
          -77.037,
          -77.0085,
          -77.0115,
          -77.0685,
          -76.9965,
          -77.037,
          -77.034,
          -77.052,
          -77.0235,
          -77.037
         ],
         "marker": {
          "color": [
           99,
           97,
           98,
           99,
           100,
           87,
           60,
           79,
           99,
           99,
           99,
           89,
           98,
           99,
           97,
           86,
           99,
           98,
           99,
           98,
           99,
           98,
           100,
           97,
           84,
           98,
           79,
           91,
           98,
           93,
           100,
           98,
           99,
           86,
           92,
           46,
           100,
           87,
           99,
           96,
           80,
           94,
           100,
           97,
           15,
           99,
           99,
           97,
           81,
           98,
           97,
           97,
           98,
           97,
           98,
           99,
           86,
           59,
           95,
           80,
           97,
           91,
           86,
           95,
           98
          ],
          "coloraxis": "coloraxis",
          "size": [
           99,
           97,
           98,
           99,
           100,
           87,
           60,
           79,
           99,
           99,
           99,
           89,
           98,
           99,
           97,
           86,
           99,
           98,
           99,
           98,
           99,
           98,
           100,
           97,
           84,
           98,
           79,
           91,
           98,
           93,
           100,
           98,
           99,
           86,
           92,
           46,
           100,
           87,
           99,
           96,
           80,
           94,
           100,
           97,
           15,
           99,
           99,
           97,
           81,
           98,
           97,
           97,
           98,
           97,
           98,
           99,
           86,
           59,
           95,
           80,
           97,
           91,
           86,
           95,
           98
          ],
          "sizemode": "area",
          "sizeref": 0.25
         },
         "mode": "markers",
         "name": "",
         "showlegend": false,
         "subplot": "mapbox",
         "type": "scattermapbox"
        }
       ],
       "layout": {
        "coloraxis": {
         "colorbar": {
          "title": {
           "text": "Walk Score"
          }
         },
         "colorscale": [
          [
           0,
           "red"
          ],
          [
           1,
           "green"
          ]
         ]
        },
        "height": 800,
        "legend": {
         "itemsizing": "constant",
         "tracegroupgap": 0
        },
        "mapbox": {
         "center": {
          "lat": 38.9046,
          "lon": -77.03190000000001
         },
         "domain": {
          "x": [
           0,
           1
          ],
          "y": [
           0,
           1
          ]
         },
         "style": "open-street-map",
         "zoom": 8
        },
        "margin": {
         "b": 0,
         "l": 0,
         "r": 0,
         "t": 0
        },
        "template": {
         "data": {
          "bar": [
           {
            "error_x": {
             "color": "#2a3f5f"
            },
            "error_y": {
             "color": "#2a3f5f"
            },
            "marker": {
             "line": {
              "color": "#E5ECF6",
              "width": 0.5
             },
             "pattern": {
              "fillmode": "overlay",
              "size": 10,
              "solidity": 0.2
             }
            },
            "type": "bar"
           }
          ],
          "barpolar": [
           {
            "marker": {
             "line": {
              "color": "#E5ECF6",
              "width": 0.5
             },
             "pattern": {
              "fillmode": "overlay",
              "size": 10,
              "solidity": 0.2
             }
            },
            "type": "barpolar"
           }
          ],
          "carpet": [
           {
            "aaxis": {
             "endlinecolor": "#2a3f5f",
             "gridcolor": "white",
             "linecolor": "white",
             "minorgridcolor": "white",
             "startlinecolor": "#2a3f5f"
            },
            "baxis": {
             "endlinecolor": "#2a3f5f",
             "gridcolor": "white",
             "linecolor": "white",
             "minorgridcolor": "white",
             "startlinecolor": "#2a3f5f"
            },
            "type": "carpet"
           }
          ],
          "choropleth": [
           {
            "colorbar": {
             "outlinewidth": 0,
             "ticks": ""
            },
            "type": "choropleth"
           }
          ],
          "contour": [
           {
            "colorbar": {
             "outlinewidth": 0,
             "ticks": ""
            },
            "colorscale": [
             [
              0,
              "#0d0887"
             ],
             [
              0.1111111111111111,
              "#46039f"
             ],
             [
              0.2222222222222222,
              "#7201a8"
             ],
             [
              0.3333333333333333,
              "#9c179e"
             ],
             [
              0.4444444444444444,
              "#bd3786"
             ],
             [
              0.5555555555555556,
              "#d8576b"
             ],
             [
              0.6666666666666666,
              "#ed7953"
             ],
             [
              0.7777777777777778,
              "#fb9f3a"
             ],
             [
              0.8888888888888888,
              "#fdca26"
             ],
             [
              1,
              "#f0f921"
             ]
            ],
            "type": "contour"
           }
          ],
          "contourcarpet": [
           {
            "colorbar": {
             "outlinewidth": 0,
             "ticks": ""
            },
            "type": "contourcarpet"
           }
          ],
          "heatmap": [
           {
            "colorbar": {
             "outlinewidth": 0,
             "ticks": ""
            },
            "colorscale": [
             [
              0,
              "#0d0887"
             ],
             [
              0.1111111111111111,
              "#46039f"
             ],
             [
              0.2222222222222222,
              "#7201a8"
             ],
             [
              0.3333333333333333,
              "#9c179e"
             ],
             [
              0.4444444444444444,
              "#bd3786"
             ],
             [
              0.5555555555555556,
              "#d8576b"
             ],
             [
              0.6666666666666666,
              "#ed7953"
             ],
             [
              0.7777777777777778,
              "#fb9f3a"
             ],
             [
              0.8888888888888888,
              "#fdca26"
             ],
             [
              1,
              "#f0f921"
             ]
            ],
            "type": "heatmap"
           }
          ],
          "heatmapgl": [
           {
            "colorbar": {
             "outlinewidth": 0,
             "ticks": ""
            },
            "colorscale": [
             [
              0,
              "#0d0887"
             ],
             [
              0.1111111111111111,
              "#46039f"
             ],
             [
              0.2222222222222222,
              "#7201a8"
             ],
             [
              0.3333333333333333,
              "#9c179e"
             ],
             [
              0.4444444444444444,
              "#bd3786"
             ],
             [
              0.5555555555555556,
              "#d8576b"
             ],
             [
              0.6666666666666666,
              "#ed7953"
             ],
             [
              0.7777777777777778,
              "#fb9f3a"
             ],
             [
              0.8888888888888888,
              "#fdca26"
             ],
             [
              1,
              "#f0f921"
             ]
            ],
            "type": "heatmapgl"
           }
          ],
          "histogram": [
           {
            "marker": {
             "pattern": {
              "fillmode": "overlay",
              "size": 10,
              "solidity": 0.2
             }
            },
            "type": "histogram"
           }
          ],
          "histogram2d": [
           {
            "colorbar": {
             "outlinewidth": 0,
             "ticks": ""
            },
            "colorscale": [
             [
              0,
              "#0d0887"
             ],
             [
              0.1111111111111111,
              "#46039f"
             ],
             [
              0.2222222222222222,
              "#7201a8"
             ],
             [
              0.3333333333333333,
              "#9c179e"
             ],
             [
              0.4444444444444444,
              "#bd3786"
             ],
             [
              0.5555555555555556,
              "#d8576b"
             ],
             [
              0.6666666666666666,
              "#ed7953"
             ],
             [
              0.7777777777777778,
              "#fb9f3a"
             ],
             [
              0.8888888888888888,
              "#fdca26"
             ],
             [
              1,
              "#f0f921"
             ]
            ],
            "type": "histogram2d"
           }
          ],
          "histogram2dcontour": [
           {
            "colorbar": {
             "outlinewidth": 0,
             "ticks": ""
            },
            "colorscale": [
             [
              0,
              "#0d0887"
             ],
             [
              0.1111111111111111,
              "#46039f"
             ],
             [
              0.2222222222222222,
              "#7201a8"
             ],
             [
              0.3333333333333333,
              "#9c179e"
             ],
             [
              0.4444444444444444,
              "#bd3786"
             ],
             [
              0.5555555555555556,
              "#d8576b"
             ],
             [
              0.6666666666666666,
              "#ed7953"
             ],
             [
              0.7777777777777778,
              "#fb9f3a"
             ],
             [
              0.8888888888888888,
              "#fdca26"
             ],
             [
              1,
              "#f0f921"
             ]
            ],
            "type": "histogram2dcontour"
           }
          ],
          "mesh3d": [
           {
            "colorbar": {
             "outlinewidth": 0,
             "ticks": ""
            },
            "type": "mesh3d"
           }
          ],
          "parcoords": [
           {
            "line": {
             "colorbar": {
              "outlinewidth": 0,
              "ticks": ""
             }
            },
            "type": "parcoords"
           }
          ],
          "pie": [
           {
            "automargin": true,
            "type": "pie"
           }
          ],
          "scatter": [
           {
            "fillpattern": {
             "fillmode": "overlay",
             "size": 10,
             "solidity": 0.2
            },
            "type": "scatter"
           }
          ],
          "scatter3d": [
           {
            "line": {
             "colorbar": {
              "outlinewidth": 0,
              "ticks": ""
             }
            },
            "marker": {
             "colorbar": {
              "outlinewidth": 0,
              "ticks": ""
             }
            },
            "type": "scatter3d"
           }
          ],
          "scattercarpet": [
           {
            "marker": {
             "colorbar": {
              "outlinewidth": 0,
              "ticks": ""
             }
            },
            "type": "scattercarpet"
           }
          ],
          "scattergeo": [
           {
            "marker": {
             "colorbar": {
              "outlinewidth": 0,
              "ticks": ""
             }
            },
            "type": "scattergeo"
           }
          ],
          "scattergl": [
           {
            "marker": {
             "colorbar": {
              "outlinewidth": 0,
              "ticks": ""
             }
            },
            "type": "scattergl"
           }
          ],
          "scattermapbox": [
           {
            "marker": {
             "colorbar": {
              "outlinewidth": 0,
              "ticks": ""
             }
            },
            "type": "scattermapbox"
           }
          ],
          "scatterpolar": [
           {
            "marker": {
             "colorbar": {
              "outlinewidth": 0,
              "ticks": ""
             }
            },
            "type": "scatterpolar"
           }
          ],
          "scatterpolargl": [
           {
            "marker": {
             "colorbar": {
              "outlinewidth": 0,
              "ticks": ""
             }
            },
            "type": "scatterpolargl"
           }
          ],
          "scatterternary": [
           {
            "marker": {
             "colorbar": {
              "outlinewidth": 0,
              "ticks": ""
             }
            },
            "type": "scatterternary"
           }
          ],
          "surface": [
           {
            "colorbar": {
             "outlinewidth": 0,
             "ticks": ""
            },
            "colorscale": [
             [
              0,
              "#0d0887"
             ],
             [
              0.1111111111111111,
              "#46039f"
             ],
             [
              0.2222222222222222,
              "#7201a8"
             ],
             [
              0.3333333333333333,
              "#9c179e"
             ],
             [
              0.4444444444444444,
              "#bd3786"
             ],
             [
              0.5555555555555556,
              "#d8576b"
             ],
             [
              0.6666666666666666,
              "#ed7953"
             ],
             [
              0.7777777777777778,
              "#fb9f3a"
             ],
             [
              0.8888888888888888,
              "#fdca26"
             ],
             [
              1,
              "#f0f921"
             ]
            ],
            "type": "surface"
           }
          ],
          "table": [
           {
            "cells": {
             "fill": {
              "color": "#EBF0F8"
             },
             "line": {
              "color": "white"
             }
            },
            "header": {
             "fill": {
              "color": "#C8D4E3"
             },
             "line": {
              "color": "white"
             }
            },
            "type": "table"
           }
          ]
         },
         "layout": {
          "annotationdefaults": {
           "arrowcolor": "#2a3f5f",
           "arrowhead": 0,
           "arrowwidth": 1
          },
          "autotypenumbers": "strict",
          "coloraxis": {
           "colorbar": {
            "outlinewidth": 0,
            "ticks": ""
           }
          },
          "colorscale": {
           "diverging": [
            [
             0,
             "#8e0152"
            ],
            [
             0.1,
             "#c51b7d"
            ],
            [
             0.2,
             "#de77ae"
            ],
            [
             0.3,
             "#f1b6da"
            ],
            [
             0.4,
             "#fde0ef"
            ],
            [
             0.5,
             "#f7f7f7"
            ],
            [
             0.6,
             "#e6f5d0"
            ],
            [
             0.7,
             "#b8e186"
            ],
            [
             0.8,
             "#7fbc41"
            ],
            [
             0.9,
             "#4d9221"
            ],
            [
             1,
             "#276419"
            ]
           ],
           "sequential": [
            [
             0,
             "#0d0887"
            ],
            [
             0.1111111111111111,
             "#46039f"
            ],
            [
             0.2222222222222222,
             "#7201a8"
            ],
            [
             0.3333333333333333,
             "#9c179e"
            ],
            [
             0.4444444444444444,
             "#bd3786"
            ],
            [
             0.5555555555555556,
             "#d8576b"
            ],
            [
             0.6666666666666666,
             "#ed7953"
            ],
            [
             0.7777777777777778,
             "#fb9f3a"
            ],
            [
             0.8888888888888888,
             "#fdca26"
            ],
            [
             1,
             "#f0f921"
            ]
           ],
           "sequentialminus": [
            [
             0,
             "#0d0887"
            ],
            [
             0.1111111111111111,
             "#46039f"
            ],
            [
             0.2222222222222222,
             "#7201a8"
            ],
            [
             0.3333333333333333,
             "#9c179e"
            ],
            [
             0.4444444444444444,
             "#bd3786"
            ],
            [
             0.5555555555555556,
             "#d8576b"
            ],
            [
             0.6666666666666666,
             "#ed7953"
            ],
            [
             0.7777777777777778,
             "#fb9f3a"
            ],
            [
             0.8888888888888888,
             "#fdca26"
            ],
            [
             1,
             "#f0f921"
            ]
           ]
          },
          "colorway": [
           "#636efa",
           "#EF553B",
           "#00cc96",
           "#ab63fa",
           "#FFA15A",
           "#19d3f3",
           "#FF6692",
           "#B6E880",
           "#FF97FF",
           "#FECB52"
          ],
          "font": {
           "color": "#2a3f5f"
          },
          "geo": {
           "bgcolor": "white",
           "lakecolor": "white",
           "landcolor": "#E5ECF6",
           "showlakes": true,
           "showland": true,
           "subunitcolor": "white"
          },
          "hoverlabel": {
           "align": "left"
          },
          "hovermode": "closest",
          "mapbox": {
           "style": "light"
          },
          "paper_bgcolor": "white",
          "plot_bgcolor": "#E5ECF6",
          "polar": {
           "angularaxis": {
            "gridcolor": "white",
            "linecolor": "white",
            "ticks": ""
           },
           "bgcolor": "#E5ECF6",
           "radialaxis": {
            "gridcolor": "white",
            "linecolor": "white",
            "ticks": ""
           }
          },
          "scene": {
           "xaxis": {
            "backgroundcolor": "#E5ECF6",
            "gridcolor": "white",
            "gridwidth": 2,
            "linecolor": "white",
            "showbackground": true,
            "ticks": "",
            "zerolinecolor": "white"
           },
           "yaxis": {
            "backgroundcolor": "#E5ECF6",
            "gridcolor": "white",
            "gridwidth": 2,
            "linecolor": "white",
            "showbackground": true,
            "ticks": "",
            "zerolinecolor": "white"
           },
           "zaxis": {
            "backgroundcolor": "#E5ECF6",
            "gridcolor": "white",
            "gridwidth": 2,
            "linecolor": "white",
            "showbackground": true,
            "ticks": "",
            "zerolinecolor": "white"
           }
          },
          "shapedefaults": {
           "line": {
            "color": "#2a3f5f"
           }
          },
          "ternary": {
           "aaxis": {
            "gridcolor": "white",
            "linecolor": "white",
            "ticks": ""
           },
           "baxis": {
            "gridcolor": "white",
            "linecolor": "white",
            "ticks": ""
           },
           "bgcolor": "#E5ECF6",
           "caxis": {
            "gridcolor": "white",
            "linecolor": "white",
            "ticks": ""
           }
          },
          "title": {
           "x": 0.05
          },
          "xaxis": {
           "automargin": true,
           "gridcolor": "white",
           "linecolor": "white",
           "ticks": "",
           "title": {
            "standoff": 15
           },
           "zerolinecolor": "white",
           "zerolinewidth": 2
          },
          "yaxis": {
           "automargin": true,
           "gridcolor": "white",
           "linecolor": "white",
           "ticks": "",
           "title": {
            "standoff": 15
           },
           "zerolinecolor": "white",
           "zerolinewidth": 2
          }
         }
        },
        "width": 800
       }
      }
     },
     "metadata": {},
     "output_type": "display_data"
    }
   ],
   "source": [
    "walk_fig.update_layout(mapbox_style=\"open-street-map\")\n",
    "walk_fig.update_layout(margin={\"r\": 0, \"t\": 0, \"l\": 0, \"b\": 0})\n",
    "walk_fig.show()"
   ]
  }
 ],
 "metadata": {
  "kernelspec": {
   "display_name": "learning",
   "language": "python",
   "name": "python3"
  },
  "language_info": {
   "codemirror_mode": {
    "name": "ipython",
    "version": 3
   },
   "file_extension": ".py",
   "mimetype": "text/x-python",
   "name": "python",
   "nbconvert_exporter": "python",
   "pygments_lexer": "ipython3",
   "version": "3.10.4"
  }
 },
 "nbformat": 4,
 "nbformat_minor": 2
}
