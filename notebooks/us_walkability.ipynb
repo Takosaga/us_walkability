{
 "cells": [
  {
   "cell_type": "markdown",
   "metadata": {},
   "source": [
    "# US Walkability"
   ]
  },
  {
   "cell_type": "markdown",
   "metadata": {},
   "source": [
    "### INTRO\n",
    "This project is to show walkability of US cities by showing walk scores and public transit scores from hotels and hotels within different US cities. \n",
    "End goal is to have a heat map to show a single cities information.\n",
    "\n",
    "Project also is to show the following:\n",
    "- python\n",
    "- jupyter notebooks\n",
    "- gather data from apis\n",
    "- cloud database\n",
    "- psql\n",
    "- project data science orginization\n",
    "- version control git/github\n",
    "- my thought process"
   ]
  },
  {
   "cell_type": "markdown",
   "metadata": {},
   "source": [
    "## Cloud Database\n",
    "\n",
    "Wanted too use an online database since I might use for a portfolio and the data won't be available in the project itself\n",
    "\n",
    "For now went with a free db from Neon\n"
   ]
  }
 ],
 "metadata": {
  "kernelspec": {
   "display_name": "base",
   "language": "python",
   "name": "python3"
  },
  "language_info": {
   "codemirror_mode": {
    "name": "ipython",
    "version": 3
   },
   "file_extension": ".py",
   "mimetype": "text/x-python",
   "name": "python",
   "nbconvert_exporter": "python",
   "pygments_lexer": "ipython3",
   "version": "3.9.7"
  }
 },
 "nbformat": 4,
 "nbformat_minor": 2
}
